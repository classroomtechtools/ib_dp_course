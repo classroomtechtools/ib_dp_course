{
 "cells": [
  {
   "cell_type": "markdown",
   "metadata": {},
   "source": [
    "# Topic 2.1.1 \n",
    "\n",
    "## Outline the architecture of a central processing unit (CPU) \n",
    "\n",
    "The CPU includes the Control Unit (CU), the Arithmetic Logic Unit (ALU), and registers. The CPU is the sort of \"box\" that houses those things. The CU is the manager which does a \"fetch\" on instruction set. You can think of the CPU like a loop in code:"
   ]
  },
  {
   "cell_type": "code",
   "execution_count": 3,
   "metadata": {},
   "outputs": [
    {
     "data": {
      "text/plain": [
       "'hello world'"
      ]
     },
     "execution_count": 3,
     "metadata": {},
     "output_type": "execute_result"
    }
   ],
   "source": [
    "# a series of instructions in binary format\n",
    "INSTRUCTIONS = ['0b1101000', '0b1100101', '0b1101100', '0b1101100', '0b1101111', '0b100000', '0b1110111', '0b1101111', '0b1110010', '0b1101100', '0b1100100']\n",
    "\n",
    "# the memory which stores our info\n",
    "REGISTERS = []\n",
    "\n",
    "# initialize the program counter that tracks which instruction we're at\n",
    "PROGRAM_COUNTER = None\n",
    "\n",
    "def Fetch():\n",
    "    return INSTRUCTIONS[PROGRAM_COUNTER]\n",
    "\n",
    "def Next_counter_number():\n",
    "    \"\"\" Just return iterable of 11 integers (because we have 11 instructions) \"\"\"\n",
    "    return [0, 1, 2, 3, 4, 5, 6, 7, 8, 9, 10]\n",
    "\n",
    "def Process_with_alu(parameter):\n",
    "    \"\"\" Just convert each instruction to the integer value \"\"\"\n",
    "    return int(parameter, 2)\n",
    "\n",
    "def Store_in_register(parameter):\n",
    "    \"\"\" Just convert to character value and append to register array \"\"\"\n",
    "    REGISTERS.append(chr(parameter))\n",
    "\n",
    "def Execute(registers):\n",
    "    \"\"\" return a string output \"\"\"\n",
    "    return ''.join(registers)\n",
    "\n",
    "\n",
    "# Main:\n",
    "for PROGRAM_COUNTER in Next_counter_number():\n",
    "    \n",
    "    # fetch the instruction using the program counter\n",
    "    instruction = Fetch()\n",
    "    #\n",
    "    \n",
    "    # decode the instruction:\n",
    "    processed_value = Process_with_alu(instruction)\n",
    "    # \n",
    "    \n",
    "    # store the result of the instruction\n",
    "    Store_in_register(processed_value)\n",
    "    #\n",
    "    \n",
    "# execute based on what's in the registre\n",
    "Execute(REGISTERS)"
   ]
  },
  {
   "cell_type": "markdown",
   "metadata": {},
   "source": [
    "You can see [an article from bitsize BBC](https://www.bbc.com/bitesize/guides/z2342hv/revision/1) that illustrates this process as well.\n",
    "\n",
    "> NOTE: The above program uses the concept of global variables, which by convension are CAPITALIZED. The use of global variables is frowned upon generally in programming, but they vastly simplify short programs such as this one. If we wanted to avoid global variables, we could rewrite this with object-oriented programming prinicples, which are beyond our topic for the moment"
   ]
  },
  {
   "cell_type": "markdown",
   "metadata": {},
   "source": [
    "## Outline the the functions of the control unit (CU) \n",
    "\n",
    "The Control Unit does all of the functions that being with a Capital Letter above: Fetch, Next_counter_number, Process_with_alu, Store_in_register.\n",
    "\n",
    "## Outine the functions of the Arithmetic Logic Unit (ALU)\n",
    "\n",
    "This is the \"rawest\" part of the computer. By using gates it is able to calculate with arithmetic and logical rules.\n",
    "\n",
    "## Outline the registers within the CPU.\n",
    "\n",
    "The registers are like the CPU's database. It stores information as it processes. The CPU does not store in RAM, as that would take too long. The registers can only hold very small bits of information at a time and are constantly rewritten: RAM is better for keeping information for a few seconds, minutes, or hours at a time.\n",
    "\n"
   ]
  },
  {
   "cell_type": "code",
   "execution_count": null,
   "metadata": {},
   "outputs": [],
   "source": []
  }
 ],
 "metadata": {
  "kernelspec": {
   "display_name": "Python 3",
   "language": "python",
   "name": "python3"
  },
  "language_info": {
   "codemirror_mode": {
    "name": "ipython",
    "version": 3
   },
   "file_extension": ".py",
   "mimetype": "text/x-python",
   "name": "python",
   "nbconvert_exporter": "python",
   "pygments_lexer": "ipython3",
   "version": "3.7.3"
  }
 },
 "nbformat": 4,
 "nbformat_minor": 2
}
