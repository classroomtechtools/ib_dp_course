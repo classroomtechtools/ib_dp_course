{
 "cells": [
  {
   "cell_type": "markdown",
   "metadata": {},
   "source": [
    "# Networking \n",
    "\n",
    "## 3.1.1. Identify different types of networks\n",
    "\n",
    "A \"network\" just means computers connected together. It can mean connected physically, wirelessly, or virtually.\n",
    "\n",
    "LAN, WAN, VLAN, SAN, WLAN, Internet, Ethernet, VPN, PAN, P2P\n",
    "\n",
    "A local area network \n",
    "\n",
    "## Outline the importance of standards in the construction of networks.\n",
    "\n",
    "Standards are the same as protocols \n",
    "\n",
    "## Describe how communication over networks is broken down into different layers.\n",
    "\n",
    "OSI Model is useful not just in networking, but in understanding how layers in general work.\n",
    "\n",
    "Application, Presentation, Session, Transport, Network, Data link, Physical\n",
    "\n",
    "TCP/IP Model\n",
    "\n",
    "Application, Transmission, Network, Link\n",
    "\n",
    "## Identify the technologies required to provide a VPN.\n",
    "\n",
    "Requires a LAN connected to the internet, a client and server, Encryption, tunnelling\n",
    "\n",
    "## Evaluate the use of a VPN.\n",
    "\n",
    "Working remotely, telcommuting has strengths and weaknesses\n",
    "\n"
   ]
  }
 ],
 "metadata": {
  "kernelspec": {
   "display_name": "Python 3",
   "language": "python",
   "name": "python3"
  },
  "language_info": {
   "codemirror_mode": {
    "name": "ipython",
    "version": 3
   },
   "file_extension": ".py",
   "mimetype": "text/x-python",
   "name": "python",
   "nbconvert_exporter": "python",
   "pygments_lexer": "ipython3",
   "version": "3.7.3"
  }
 },
 "nbformat": 4,
 "nbformat_minor": 2
}
