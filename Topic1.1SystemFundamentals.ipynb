{
 "cells": [
  {
   "cell_type": "markdown",
   "metadata": {},
   "source": [
    "# Topic 1: System Fundamentals\n",
    "\n",
    "## 1.1 Systems in organizations\n",
    "\n",
    "### Planning and system installation\n",
    "\n",
    "#### 1.1.1 Identify the context for which new system is planned\n",
    "\n",
    "Any organization needs to — at some point — introduce new technologies into its organizational structure. One of the primary exercises before actually introducing it is to figure out the background information, i.e. the **context** that the system is going to be installed into.\n",
    "\n",
    "This information could include technical details, but that is not usually the focus. When we talk about context in technology, many times they are referring to *cultural factors*, *human resourcing*, and the general situation. It could include information about *training* available, the country in which the organization lives and its strength or weakness in attracting *skilled labor*. It could include information such as the industry, or *expectations* that exist within the community. It could include about the users who will use it, and the stakeholders — those who will benefit from it being successful.\n",
    "\n",
    "Take for example an international school planned to introduce a bookmarking site into our organization in our second year of existence. The context is referring to answers to the following sort of questions:\n",
    "\n",
    "- How does this system meet the organization's mission statement?\n",
    "- Who are the likely users that will benefit from this system, and do we have the skill set in our organization to maintain it?\n",
    "\n",
    "#### 1.1.1 Programming task\n",
    "\n",
    "Write a program that asks users for feedback on a system that your school uses. Questions can be the following three kinds:\n",
    "\n",
    "- Yes/No \"(Y/N)\"\n",
    "\n",
    "- Likert Scale \"(1-6)\"\n",
    "\n",
    "- Paragraph \"(¶)\"\n",
    "\n",
    "Define the questions in an array, where each element is an array of two sub-elements. The first sub-element should be the question itself, and the second element should be the kind of question. Both sub-elements should be strings. Here's how to do that, and print out the questions:"
   ]
  },
  {
   "cell_type": "code",
   "execution_count": 1,
   "metadata": {},
   "outputs": [
    {
     "name": "stdout",
     "output_type": "stream",
     "text": [
      "Do you enjoy studying Computer Science? (Y/N)\n",
      "To what extent do you agree that learning Computer Science is useful? (1-6)\n",
      "What is the main benefit to learning computer science? (¶)\n"
     ]
    }
   ],
   "source": [
    "# Make an array of questions, where each element has two sub-elements\n",
    "items = [\n",
    "    [\"Do you enjoy studying Computer Science?\" , \"Y/N\"],\n",
    "    [\"To what extent do you agree that learning Computer Science is useful?\" , \"1-6\"],\n",
    "    [\"What is the main benefit to learning computer science?\" , \"¶\"]\n",
    "]\n",
    "\n",
    "# use a for loop to iterate over each element, and print out the sub-elements nicely\n",
    "for item in items:\n",
    "    question = item[0]  # first sub-element\n",
    "    kind = item[1]  # second sub-element\n",
    "    print(f\"{question} ({kind})\")"
   ]
  },
  {
   "cell_type": "markdown",
   "metadata": {},
   "source": [
    "To get input from the user, you can use the `input` function. The below piece of code illustrates a slightly different, but equivalent way of iterating through an array, known as \"expansion\". Notice that above we do this:\n",
    "\n",
    "```\n",
    "      ↓ item\n",
    "```\n",
    "\n",
    "```python\n",
    "for item in items:\n",
    "    question = item[0]\n",
    "    kind = item[1]\n",
    "    print(question, kind)\n",
    "```\n",
    "\n",
    "But below we do this:\n",
    "\n",
    "```\n",
    "      ↓ question, kind\n",
    "```\n",
    "\n",
    "```python\n",
    "for question, kind in items:\n",
    "    print(question, kind)\n",
    "```\n",
    "\n",
    "The idea here is that we can manually break down the elements into the sub-elements, or we can use Python's syntax to do that for us. This pattern is a very common idiom. We'll use expansion to get input from the user:"
   ]
  },
  {
   "cell_type": "code",
   "execution_count": 2,
   "metadata": {},
   "outputs": [
    {
     "name": "stdin",
     "output_type": "stream",
     "text": [
      "Do you enjoy studying Computer Science? (Y/N) Y\n",
      "To what extent do you agree that learning Computer Science is useful? (1-6) 1\n",
      "What is the main benefit to learning computer science? (¶) sldkfjsd\n"
     ]
    }
   ],
   "source": [
    "for question, kind in items:\n",
    "    response = input(f\"{question} ({kind})\")"
   ]
  },
  {
   "cell_type": "markdown",
   "metadata": {},
   "source": [
    "Now you should do some simple validation on the first kind of questions (Y/N and Likert). Let's use a function that will keep asking the user over and over until we have a valid response:"
   ]
  },
  {
   "cell_type": "code",
   "execution_count": 3,
   "metadata": {},
   "outputs": [],
   "source": [
    "def ask_until_valid(prompt: str, possible_answers: list):\n",
    "    while True:\n",
    "        response = input(prompt)\n",
    "        if response in possible_answers:\n",
    "            break\n",
    "    return response"
   ]
  },
  {
   "cell_type": "markdown",
   "metadata": {},
   "source": [
    "We use this function like this. Try and see what happens with various inputs:"
   ]
  },
  {
   "cell_type": "code",
   "execution_count": 4,
   "metadata": {},
   "outputs": [
    {
     "name": "stdin",
     "output_type": "stream",
     "text": [
      "Do you enjoy studying Computer Science Y\n"
     ]
    },
    {
     "data": {
      "text/plain": [
       "'Y'"
      ]
     },
     "execution_count": 4,
     "metadata": {},
     "output_type": "execute_result"
    }
   ],
   "source": [
    "ask_until_valid(\"Do you enjoy studying Computer Science\", [\"Y\", \"N\"])"
   ]
  },
  {
   "cell_type": "markdown",
   "metadata": {},
   "source": [
    "***"
   ]
  },
  {
   "cell_type": "markdown",
   "metadata": {},
   "source": [
    "#### 1.1.2 Describe the need for change management.\n",
    "\n",
    "Users become used to software, and enjoy using it for its purpose. Sometimes users can become skeptical that an organization really does need some new system, or a different piece of software. If the launch does not go very well, or seems to make things harder rather than easier, users may give negative feedback, making for a stressful situation\n",
    "\n",
    "In computer science, \"change management\" refers to the effort to **proactively predict** where things may go wrong, such as an organization will conduct a \"risk assessment\" for a field trip or overnight camping trip, \"just in case\". It also includes a **rapid response** effort to handle challenges, \"just in time.\" \n",
    "\n",
    "Change management is in fact a major topic within IT itself, and leaders in technology will attend a lot of professional development on this topic."
   ]
  },
  {
   "cell_type": "markdown",
   "metadata": {},
   "source": [
    "##### Programming Task\n",
    "\n",
    "Your organization is attempting to define minimum standards required in order for software to be installed. You decide to write a program that reports whether or not the minimum standards have been achieved.\n",
    "\n",
    "Each standard can have a score from `1` to `6` from \"strongly disagree\" to \"strongly agree.\" Examples of standards are:\n",
    "\n",
    "- This new software has been demonstrated to all stakeholders\n",
    "- The new software has a feature that is currently not available with existing software\n",
    "\n",
    "The minimuim standard that your organization has agreed upon is that no software can be approved unless it achieves an average of 4 or higher. Write a program that reports that it should be approved or not.\n",
    "\n",
    "> To make this program work in Python, you'll need to know how to convert a string (which you get from `input` into an integer). This is not quite as easy as it sounds, for we have to consider that a `string` and an `int` are completely different data `types`. You'll have to explore this more carefully in the below\n",
    "\n",
    "In the below code snippet, the program only outputs \"Yes!\" if and only if the user types \"10\" exactly. Anything else will result in an error. Try it and see what happens:"
   ]
  },
  {
   "cell_type": "code",
   "execution_count": 45,
   "metadata": {},
   "outputs": [
    {
     "name": "stdin",
     "output_type": "stream",
     "text": [
      "Enter '10':  10\n"
     ]
    },
    {
     "name": "stdout",
     "output_type": "stream",
     "text": [
      "Yes!\n"
     ]
    }
   ],
   "source": [
    "response = input(\"Enter '10': \")\n",
    "if not response.isdigit():\n",
    "    raise Exception(\"Not a number!\")\n",
    "    # exits program if we get here\n",
    "    \n",
    "# response is guaranteed to be only valid number string\n",
    "number = int(response)\n",
    "if not number == 10:\n",
    "    raise Exception(\"Not 10!\")\n",
    "    # exits program if we get here\n",
    "    \n",
    "print(\"Yes!\")"
   ]
  },
  {
   "cell_type": "markdown",
   "metadata": {},
   "source": [
    "The above illustrates quite a few things:\n",
    "\n",
    "- The `input` function returns a `string`\n",
    "    - A `string` in Python has methods attached to it, which we can access with the `.` notation.\n",
    "        - One of these methods is `isdigit()` which is a function that returns `True` if the string only has numbers, `False` if not\n",
    "- The `int` function takes one `string` parameter and returns its numerical representation\n",
    "    - If the passed `string` does not have just numbers, it raises an exception\n",
    "        - i.e. `int(\"ten\")  # ValueError: invalid literal for int() with base 10: 'ten'`\n",
    "- The `raise Exception(\"report\")` idiom in Python is how we say \"something unexpected happened\"."
   ]
  },
  {
   "cell_type": "markdown",
   "metadata": {},
   "source": [
    "Using this newfound knowledge, we can write a program like this:"
   ]
  },
  {
   "cell_type": "code",
   "execution_count": 24,
   "metadata": {},
   "outputs": [
    {
     "name": "stdin",
     "output_type": "stream",
     "text": [
      "This new software has features not currently available (1-6) 3\n"
     ]
    },
    {
     "name": "stdout",
     "output_type": "stream",
     "text": [
      "The average is 3.0\n",
      "Does not meet minimum requirements\n"
     ]
    }
   ],
   "source": [
    "items = [\n",
    "    [\"This new software has features not currently available\", \"1-6\"]\n",
    "]\n",
    "\n",
    "total = 0\n",
    "count = 0\n",
    "for question, kind in items:\n",
    "    count = count + 1\n",
    "    response = ask_until_valid(f\"{question} ({kind})\", [\"1\", \"2\", \"3\", \"4\", \"5\", \"6\"])\n",
    "    response = int(response)\n",
    "    total = total + response\n",
    "  \n",
    "average = total / count\n",
    "\n",
    "print(f\"The average is {average}\")\n",
    "if average >= 4:\n",
    "    print(\"The software can be approved\")\n",
    "else:\n",
    "    print(\"Does not meet minimum requirements\")"
   ]
  },
  {
   "cell_type": "markdown",
   "metadata": {},
   "source": [
    "*** \n",
    "\n",
    "#### 1.1.3 Outline compatibility issues resulting from situations including legacy systems or business mergers.\n",
    "\n",
    "Compatibility issues are a piece of software. Every organization is using different systems, and it can be quite difficult to exchange information between all of them. There are so many issues that arise. For our purposes here, we are going to focus on difficulties surrounding before, during, and after data is **parsed**.\n",
    "\n",
    "The parsing of data, also called the **consumption** of data (when speaking more abstractly), is the process by which software takes existing raw information and converts it into data structures native to the application program.\n",
    "\n",
    "- Before data is parsed:\n",
    "    - The data itself may need to be cleaned for consistency\n",
    "    - The dat itself may not be consistently structured   \n",
    "- During parsing:\n",
    "    - There can be data loss from oversight in the process used\n",
    "    - There can be mathematical errors in the process (especially with complex data)\n",
    "- After parsing:\n",
    "    - In hindsight, some additional information could have been aggregated\n",
    "\n",
    "There is so much complexity, it's amazing that we are even able to share information at all."
   ]
  },
  {
   "cell_type": "markdown",
   "metadata": {},
   "source": [
    "##### Programming Task\n",
    "\n",
    "You are going to write a program that reads in a CSV file of questions and their numerical responses (Likert scale). Although the industry does not have strong library support for this operation, we are doing to write it ourselves in order to illustrate the difficulty of compatibility.\n",
    "\n",
    "An example of the contents of the CSV file is the following. This file `Topic1.txt` is embedded in the notebook.\n",
    "\n",
    "```\n",
    "Name,Q#,QA\n",
    "Adam,Q1,3\n",
    "Adam,Q2,6\n",
    "Beth,Q1,5\n",
    "Beth,Q2,4\n",
    "```\n",
    "\n",
    "Note that since there both students have two entries each, and the points both add up to `9`, then the average reported for both of them should be `4.5`\n",
    "\n",
    "For this task you will be introduced to the `dict` data structure, usually just called a \"dictionary.\" This data structure does the following:\n",
    "\n",
    "- Created by `dictionary = {}`\n",
    "- Dictionaries have keys and values, and so is also called a \"key value store\"\n",
    "- Store information with `dictionary[key] = value`\n",
    "- Retrieve information with `value = dictionary[key]`\n",
    "\n",
    "For this program, we are going to store information about each student into a dictionary. We will store two data points: The sum of results for each student, and how many entries each student has.\n",
    "\n",
    "This is how to read in that file and output the average for each name:"
   ]
  },
  {
   "cell_type": "code",
   "execution_count": 48,
   "metadata": {},
   "outputs": [
    {
     "name": "stdout",
     "output_type": "stream",
     "text": [
      "Parsed:\n",
      "Sums:  ['Adam', 'Adam', 'Beth', 'Beth']\n",
      "Results:  [3, 6, 5, 4]\n",
      "\n",
      "Before:\n",
      "Sums:  {'Adam': 0, 'Beth': 0}\n",
      "Counts:  {'Adam': 0, 'Beth': 0}\n",
      "\n",
      "After:\n",
      "Results:  {'Adam': 9, 'Beth': 9}\n",
      "Counts:  {'Adam': 2, 'Beth': 2}\n",
      "\n",
      "Average for Adam is 4.5\n",
      "Average for Beth is 4.5\n"
     ]
    }
   ],
   "source": [
    "names = []\n",
    "results = []\n",
    "\n",
    "# 1) First we will parse the info into two arrays\n",
    "with open('Topic1.txt') as file_:  # this file is embedded in the notebook\n",
    "    content = file_.read()\n",
    "    \n",
    "    # Split the content into arrays\n",
    "    lines = content.split('\\n')\n",
    "    headers, *data = lines\n",
    "    for line in data:\n",
    "        name, question_one, answer = line.split(',')\n",
    "        names.append(name)\n",
    "        results.append(int(answer))\n",
    "\n",
    "print('Parsed:')\n",
    "print('Sums: ', names)\n",
    "print('Results: ', results)\n",
    "print()\n",
    "\n",
    "# 2) Now we'll iterate through each array and pack them into two dictionaries\n",
    "    \n",
    "sums_by_name = {}\n",
    "counts_by_name = {}\n",
    "for name in names:\n",
    "    sums_by_name[name] = 0\n",
    "    counts_by_name[name] = 0\n",
    "\n",
    "print(\"Before:\")\n",
    "print('Sums: ', sums_by_name)\n",
    "print('Counts: ', counts_by_name)\n",
    "print()\n",
    "\n",
    "# Iterate through the indexes, and derive results\n",
    "for index in range(len(names)):\n",
    "    name = names[index]\n",
    "    sums_by_name[name] += results[index]\n",
    "    counts_by_name[name] += 1\n",
    "\n",
    "print(\"After:\")\n",
    "print('Results: ', sums_by_name)\n",
    "print('Counts: ', counts_by_name)\n",
    "print()\n",
    "\n",
    "# remove duplicates in names, so we only go through one each\n",
    "names_no_dups = []\n",
    "for name in names:\n",
    "    if not name in names_no_dups:\n",
    "        names_no_dups.append(name)\n",
    "\n",
    "# finally, can output expected information\n",
    "for name in names_no_dups:\n",
    "    result = sums_by_name[name]\n",
    "    count = counts_by_name[name]\n",
    "    average = result / count\n",
    "    \n",
    "    print(f\"Average for {name} is {average}\")"
   ]
  }
 ],
 "metadata": {
  "kernelspec": {
   "display_name": "Python 3",
   "language": "python",
   "name": "python3"
  },
  "language_info": {
   "codemirror_mode": {
    "name": "ipython",
    "version": 3
   },
   "file_extension": ".py",
   "mimetype": "text/x-python",
   "name": "python",
   "nbconvert_exporter": "python",
   "pygments_lexer": "ipython3",
   "version": "3.7.3"
  }
 },
 "nbformat": 4,
 "nbformat_minor": 4
}
