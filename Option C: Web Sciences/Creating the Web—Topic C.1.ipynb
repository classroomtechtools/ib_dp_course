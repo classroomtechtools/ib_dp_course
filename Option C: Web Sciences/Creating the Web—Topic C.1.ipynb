{
 "cells": [
  {
   "cell_type": "markdown",
   "metadata": {},
   "source": [
    "# Option C: Web Sciences\n",
    "\n",
    "We'll be exploring this topic through bits of code in Python\n",
    "\n",
    "## Creating the Web\n",
    "\n",
    "### Topic C.1 Distinguish between the Internet and World Wide Web (WWW)\n",
    "\n",
    "The internet is the broadest term to use when speaking of networked computers, and the WWW is a part of this network. The internet is the global network of computers that are connected through networking connections. These connections are hosted on a collection of cables and radios. Both sides of the connections have to talk to each other in a standard way, a kind of \"language\" some of which are very simple or very complex.\n",
    "\n",
    "Let's first look at one of the simplest examples of a protocol being used across the internet, and that is `ping` command. It uses the ICMP/IP protocol, which we usually just call the \"IP\" and all it does is receive a \"ping\" and echoes a response. This is a tool commonly used to check if internet servers are available or not.\n",
    "\n",
    "In the below code, we're using the \"bash\" language (the default language of the terminal application), to execute this very simple command:"
   ]
  },
  {
   "cell_type": "code",
   "execution_count": 1,
   "metadata": {},
   "outputs": [
    {
     "name": "stdout",
     "output_type": "stream",
     "text": [
      "PING google.com (172.217.166.142): 56 data bytes\n",
      "64 bytes from 172.217.166.142: icmp_seq=0 ttl=58 time=7.724 ms\n",
      "\n",
      "--- google.com ping statistics ---\n",
      "1 packets transmitted, 1 packets received, 0.0% packet loss\n",
      "round-trip min/avg/max/stddev = 7.724/7.724/7.724/0.000 ms\n"
     ]
    }
   ],
   "source": [
    "%%bash\n",
    "ping -c 1 google.com"
   ]
  },
  {
   "cell_type": "markdown",
   "metadata": {},
   "source": [
    "The ping command uses the IP protocol to request an \"echo\", and the response it gives is below. Very simple. That is the internet at work.\n",
    "\n",
    "Let's take a look at a far more complex internet protocol, called `smtp`. This is the \"language\" used to send emails to each other, and is entirely different from the protocol used for the WWW.\n",
    "\n",
    "The following code shows what it takes for two internet-connected computers to successfully send an email. To make this work, we'll be using Python's built-in library that does some of the work for us, and so we bring it in with (`import smtplib`). Please view the comments for further explanations.\n",
    "\n",
    "It takes as input (that you type in) your email address and Google password, and sends you a simple email. In order for this to work on your account, however, you have to nagivate to [this page](https://myaccount.google.com/lesssecureapps?source=post_page) and turn on \"less secure apps.\" (Turn it back on when you're done.) "
   ]
  },
  {
   "cell_type": "code",
   "execution_count": 5,
   "metadata": {},
   "outputs": [
    {
     "name": "stdout",
     "output_type": "stream",
     "text": [
      "Continue? (Y/N): N\n"
     ]
    }
   ],
   "source": [
    "# Declarations\n",
    "import smtplib\n",
    "from email.mime.multipart import MIMEMultipart\n",
    "from email.mime.text import MIMEText\n",
    "import getpass\n",
    "\n",
    "# Body:\n",
    "user_response = input(\"Continue? (Y/N): \")\n",
    "if user_response.strip().upper() == 'Y':\n",
    "\n",
    "    print(\"Make sure you have turned on 'less secure apps' in Google first\")\n",
    "\n",
    "    # we'll use input to get the email address\n",
    "    email_address = input(\"Enter your email address: \")\n",
    "    #\n",
    "\n",
    "    # we shouldn't use input because we don't want the password to be displayed on screen\n",
    "    # instead we use getpass module\n",
    "    password = getpass.getpass(prompt=\"Enter your password: \")\n",
    "    #\n",
    "\n",
    "    # MIMEMultipart is a class; it returns an object\n",
    "    msg = MIMEMultipart()\n",
    "    #\n",
    "\n",
    "    # here we specify the headers of the email message\n",
    "    # this is done the same way a dict works\n",
    "    msg['From'] = email_address\n",
    "    msg['To'] = email_address\n",
    "    msg['Subject'] = \"SUBJECT OF THE EMAIL\"\n",
    "    #\n",
    "\n",
    "    # We have to convert the string \"body\" into a format that matches the email specification. \n",
    "    # This is known as a \"MimeType\"\n",
    "    # MimeTypes are like a file format. They are specified as a string, in this case \"text/plain\"\n",
    "    body = \"TEXT YOU WANT TO SEND\"\n",
    "    plain_text = MIMEText(body, 'plain')\n",
    "    msg.attach(plain_text)\n",
    "    #\n",
    "\n",
    "    # Okay, finally we actually reach out the internet, at host:port according to the IP protocol and engage\n",
    "    server = smtplib.SMTP('smtp.gmail.com', 587)\n",
    "    #\n",
    "\n",
    "    # now we have to do the \"handshake\"\n",
    "    server.starttls()\n",
    "    #\n",
    "\n",
    "    # now, transfer the password as a login request\n",
    "    server.login(email_address, password)\n",
    "\n",
    "    # now, send the content of the email\n",
    "    content = msg.as_string()\n",
    "    server.sendmail(email_address, email_address, content)\n",
    "    #\n",
    "\n",
    "    # all finished, send quit\n",
    "    server.quit()\n",
    "    #\n",
    "\n",
    "    print(\"Remember to turn off the 'less secure apps' feature ... don't want to be vulnerable to attacks!\")\n",
    "\n",
    "    print(\"Check your inbox!\")"
   ]
  },
  {
   "cell_type": "markdown",
   "metadata": {},
   "source": [
    "In all of the above, we had:\n",
    "\n",
    "- interconnected computers talking to each other via a protocol\n",
    "- used the protocol to transfer data\n",
    "- services that delivered valuable information\n",
    "\n",
    "So what is the WWW? It is a collection of computers following the `HTTP` protocol, which transfers rich text written as `html/css/javascript` and executed in a browser. One of its primary features is that the rich text in this network requires a browser to process, and thus makes it easy to use. That means that it's really a simple matter for humans to start typing and get to the location they wish to. Each WWW page has hyperlinks that can lead them to more of the same kind of information. \n",
    "\n",
    "You can read [a short history](https://home.cern/science/computing/birth-web/short-history-web) from the offical website of the institution that created the WWW.\n",
    "\n",
    "We should also note that a main feature of the WWW is that it is great place for learning. In fact, I used the WWW in order to learn how to write the above code:\n",
    "\n",
    "- [Sending email in Python 3](https://medium.com/@sudarshaana/sending-mail-from-gmail-with-attachment-in-python-3-5837ce7cc721)\n",
    "- [Password without echo in Python](https://www.geeksforgeeks.org/getpass-and-getuser-in-python-password-without-echo/)\n",
    "\n",
    "In fact, this Jupyter notebook is also a part of the WWW. It is using the HTTP protocol and features of browsers to implement the ability to share words and code.\n",
    "\n",
    "We should also note that Google search is a part of the WWW: It just collects information about the WWW and presents it via the WWW. There was a period of time in which the WWW was small enough that we didn't need a search engine!"
   ]
  },
  {
   "cell_type": "code",
   "execution_count": null,
   "metadata": {},
   "outputs": [],
   "source": []
  }
 ],
 "metadata": {
  "kernelspec": {
   "display_name": "Python 3",
   "language": "python",
   "name": "python3"
  },
  "language_info": {
   "codemirror_mode": {
    "name": "ipython",
    "version": 3
   },
   "file_extension": ".py",
   "mimetype": "text/x-python",
   "name": "python",
   "nbconvert_exporter": "python",
   "pygments_lexer": "ipython3",
   "version": "3.7.3"
  }
 },
 "nbformat": 4,
 "nbformat_minor": 2
}
