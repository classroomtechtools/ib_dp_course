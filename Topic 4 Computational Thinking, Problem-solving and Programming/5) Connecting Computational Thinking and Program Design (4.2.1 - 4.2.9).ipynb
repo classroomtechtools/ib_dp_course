{
 "cells": [
  {
   "cell_type": "markdown",
   "metadata": {},
   "source": [
    "***\n",
    "## Topic 4.2.2 Explain the role of sub-procedures in solving a problem\n",
    "\n",
    "Sub-procedures, also called functions, or sub-routines, is an important aspect to programming. Whenever you find yourself writing code over and over again, you can package it up into a function. It helps us to organize our code, and can be used again later, so you're not constantly re-writing when you've found a solution.\n",
    "\n",
    "Let's learn the syntax of sub-procedure by viewing this quirky program:"
   ]
  },
  {
   "cell_type": "markdown",
   "metadata": {},
   "source": [
    "Things to notice:\n",
    "\n",
    "- You start a sub-procedure definition with the `sub` keyword and end it with `end sub`\n",
    "- You call a sub-procedure by typing its name with parentheses\n",
    "- You can send it parameters, in order\n",
    "- You can define sub-procedures in a different order than they are called\n",
    "\n",
    "There is an additional facet of the syntax that must be learned as well, and that is its **return value**. This is actually what they are used for most often, as it can save a lot of time. In fact, large, sophisticated programs are impossible without functions. What does `RESULT` equal to?"
   ]
  },
  {
   "cell_type": "code",
   "execution_count": 8,
   "metadata": {},
   "outputs": [
    {
     "data": {
      "text/plain": []
     },
     "execution_count": 8,
     "metadata": {},
     "output_type": "execute_result"
    }
   ],
   "source": [
    "sub Increment(PARAM)\n",
    "    return PARAM + 1\n",
    "end sub\n",
    "\n",
    "RESULT = Increment(41)"
   ]
  },
  {
   "cell_type": "markdown",
   "metadata": {},
   "source": [
    "*** \n",
    "## Thinking Like a Computer Scientist: Topics 4.1.4 - 4.1.8\n",
    "\n",
    "- 4.1.4 Identify when decision-making is required in a specified situation\n",
    "- 4.1.5 Identify the decisions required for the solution to a specified problem\n",
    "- 4.1.6 Identify the condition associated with a given decision in a specified problem\n",
    "- 4.1.7 Explain the relationship between the decisions and conditions of a system\n",
    "- 4.1.8 Deduce logical rules for real-world situations\n",
    "\n",
    "This section of the curriculum could aply be called \"Thinking like a Computer Scientist.\" "
   ]
  },
  {
   "cell_type": "code",
   "execution_count": 7,
   "metadata": {
    "scrolled": true
   },
   "outputs": [
    {
     "data": {
      "text/html": [
       "<img src=\"https://docs.google.com/drawings/d/e/2PACX-1vSAFs6OGJtRgXSflnIJiWIf7ioH0h_yc5m5he-MqOFGFJciV87W1REJo-_qfMCWIItXwhndWEJDjViC/pub?w=960&amp;h=720\">"
      ],
      "text/plain": [
       "<IPython.core.display.HTML object>"
      ]
     },
     "metadata": {},
     "output_type": "display_data"
    }
   ],
   "source": [
    "%%html\n",
    "<img src=\"https://docs.google.com/drawings/d/e/2PACX-1vSAFs6OGJtRgXSflnIJiWIf7ioH0h_yc5m5he-MqOFGFJciV87W1REJo-_qfMCWIItXwhndWEJDjViC/pub?w=960&amp;h=720\">"
   ]
  },
  {
   "cell_type": "markdown",
   "metadata": {},
   "source": [
    "*** \n",
    "## Topic 4.1.9 Identify the inputs and outputs required in a solution\n",
    "\n",
    "Solutions to problems can eventually be wrapped into a function, so that by providing any input, the correct output is provided. Let's build a way for us to calculate the quadratic equation.\n",
    "\n",
    "$ ax^2 + bx + c = 0 $\n",
    "\n",
    "Let's remember that in order to solve for $x$, we'll need the square root function. So how do we do that in code? What do we have to replace the `\"?\"` with in order to make a function that always returns the square root of a number `V`? "
   ]
  },
  {
   "cell_type": "code",
   "execution_count": 19,
   "metadata": {
    "scrolled": true
   },
   "outputs": [
    {
     "data": {
      "text/plain": [
       "?"
      ]
     },
     "execution_count": 19,
     "metadata": {},
     "output_type": "execute_result"
    }
   ],
   "source": [
    "sub Sqrt(V)\n",
    "    return \"?\"\n",
    "end sub\n",
    "\n",
    "output Sqrt(16)"
   ]
  },
  {
   "cell_type": "markdown",
   "metadata": {},
   "source": [
    "How do we take the power of something? And can we take the `1/2` power?"
   ]
  },
  {
   "cell_type": "code",
   "execution_count": 1,
   "metadata": {},
   "outputs": [
    {
     "data": {
      "text/plain": [
       "4\n",
       "4.0"
      ]
     },
     "execution_count": 1,
     "metadata": {},
     "output_type": "execute_result"
    }
   ],
   "source": [
    "sub Power(X, Y)\n",
    "    return X ** Y  // x to the power of y\n",
    "end sub\n",
    "\n",
    "output Power(2, 2)"
   ]
  },
  {
   "cell_type": "markdown",
   "metadata": {},
   "source": [
    "So if we understand this so far, making a square root function, we can use the `Power` function and send it `0.5` for the `Y` value."
   ]
  },
  {
   "cell_type": "code",
   "execution_count": 16,
   "metadata": {},
   "outputs": [
    {
     "data": {
      "text/plain": [
       "Power:\n",
       "4\n",
       "\n",
       "Sqrt:\n",
       "4.0"
      ]
     },
     "execution_count": 16,
     "metadata": {},
     "output_type": "execute_result"
    }
   ],
   "source": [
    "sub Sqrt(Z)\n",
    "    return Power(Z, 0.5)\n",
    "end sub\n",
    "\n",
    "sub Power(X, Y)\n",
    "    return X ** Y  // x to the power of y\n",
    "end sub\n",
    "\n",
    "output \"Power:\"\n",
    "output Power(2, 2)\n",
    "output \"\"\n",
    "output \"Sqrt:\"\n",
    "output Sqrt(16)"
   ]
  },
  {
   "cell_type": "markdown",
   "metadata": {},
   "source": [
    "We also need to understand why the first function returns `4` bu tthe second returns `4.0`, and it has to do with how numbers are represented, which is an interesting rabbit hole. But for our purposes, the main thing is to get used to thinking of writing computer programs as a series of little functions, each of which has different inputs and produces an expected output."
   ]
  },
  {
   "cell_type": "markdown",
   "metadata": {},
   "source": [
    "*** \n",
    "## Workflow & Design: 4.1.10 - 4.1.13\n",
    "\n",
    "## Topic 4.1.10 Identify pre-planning in a suggested problem and solution\n",
    "\n",
    "Once you've got a solution to a problem, you need to zoom out of the code and see what is needed in order to make sure that a suggestion solution will be able to work for you, or for the company. You'll be able to maintain the suggested software that you are going to build. Let's say for exmaple our school wanted t"
   ]
  },
  {
   "cell_type": "markdown",
   "metadata": {},
   "source": [
    "***\n",
    "## 4.1.11 Explain the need for pre-conditions when executing an algorithm\n",
    "\n",
    "Assumptions are a basic part of computers, as we saw from our calculation of fibonocci numbers above. In that case, we were given some assumptions. There is also the case where "
   ]
  },
  {
   "cell_type": "markdown",
   "metadata": {},
   "source": [
    "*** \n",
    "## 4.1.12 Outline the pre- and post-conditions to a specified problem\n",
    "\n",
    "Preconditions and input, post-conditions and output are not identical. The input are the given data points and pre-condition are expectations on the data going in. The output is the effect on the data that the program produces, and the post-conditions refer to the expections on the output, for example \"the output is consistent with xyz.\"\n",
    "\n",
    "For this problem, we're going to write a module (a series of functions) that operates on the data, and passes all tests.\n",
    "\n",
    "**Input:** A csv file with student information: Name, Grade, Gender, Nationality\n",
    "\n",
    "**Precondition:** The module must be able to parse a csv and run analytical operations without any errors and complete within seconds\n",
    "\n",
    "**Ouptut:** A breakdown of most common last name, male to female ratios, and nationality by grades\n",
    "\n",
    "**Postconditions:** The output is free of numerical errors"
   ]
  },
  {
   "cell_type": "markdown",
   "metadata": {},
   "source": [
    "***\n",
    "## 4.1.13 Identify exceptions that need to be considered in a specified problem solution\n",
    "\n",
    "Exceptions in code happen all the time. Some of them are accidental due to programmer error, but sometimes they are a part of the process. The same is true for a workflow.\n",
    "\n",
    "Take for example a factory. Most of the time, fantastic products are produced on an assembly line that can be put into stores. However, due to limitations, perhaps 1 out of 10 items cannot go to stores without another more careful inspection. Or perahps you need to make an exception for every 100 items in order to do safety inspections.\n",
    "\n",
    "Programs are the same way. You can have programs that expect there to be exceptions, and handle it in a different way. You can also have programs that have bugs, which are exceptions you hadn't thought ahead about.\n",
    "\n",
    "Pseudocode doesn't really have exceptions specified and you won't need to accommodate them , so we'll use straight Python on line 3, just to illustrate:\n"
   ]
  },
  {
   "cell_type": "code",
   "execution_count": 27,
   "metadata": {},
   "outputs": [
    {
     "name": "stdout",
     "output_type": "stream",
     "text": [
      "2.0\n"
     ]
    },
    {
     "name": "stderr",
     "output_type": "stream",
     "text": [
      "\u001b[0;31mExecution error on line 4:\n",
      "\traise Exception(\"Cannot divide by zero, dummy!\")  // py (pseudocode)\n",
      "\traise Exception(\"Cannot divide by zero, dummy!\") (python)\n",
      "Exception: Cannot divide by zero, dummy!\n",
      "\u001b[0m"
     ]
    }
   ],
   "source": [
    "sub Divide(DIVIDEND, DIVISOR)\n",
    "    if DIVISOR = 0 then\n",
    "        raise Exception(\"Cannot divide by zero, dummy!\")  // py\n",
    "    end if\n",
    "    return DIVIDEND div DIVISOR\n",
    "end sub\n",
    "\n",
    "output Divide(10, 5)  // 2.0\n",
    "output Divide(10, 0)  // \"Exception: Cannot divide by zero, dummy!\""
   ]
  },
  {
   "cell_type": "markdown",
   "metadata": {},
   "source": [
    "Just like in a workflow or design specificiation, exceptions in programming have the same effect. They don't happen very often, but when they do they potentially break things.\n",
    "\n",
    "The number `0` is just one number and it is not often that you would run into a situation where you could divide by zero, right? Actually, what about calculating averages?"
   ]
  },
  {
   "cell_type": "code",
   "execution_count": 28,
   "metadata": {},
   "outputs": [
    {
     "data": {
      "text/plain": [
       "5.333333333333333"
      ]
     },
     "execution_count": 28,
     "metadata": {},
     "output_type": "execute_result"
    }
   ],
   "source": [
    "sub Average(COLLECTION)\n",
    "    SUM = 0\n",
    "    COUNT = 0\n",
    "    loop while COLLECTION.hasNext()\n",
    "        VALUE = COLLECTION.getNext()\n",
    "        SUM = SUM + VALUE\n",
    "        COUNT = COUNT + 1\n",
    "    end loop\n",
    "    COLLECTION.resetNext()\n",
    "    \n",
    "    return SUM div COUNT\n",
    "end sub\n",
    "\n",
    "GRADES = Collection.from_list([5, 6, 4, 6, 6, 5])\n",
    "output Average(GRADES)"
   ]
  },
  {
   "cell_type": "markdown",
   "metadata": {},
   "source": [
    "But what if we our `COLLECTION` is empty? The program throws an error for us."
   ]
  },
  {
   "cell_type": "code",
   "execution_count": 1,
   "metadata": {},
   "outputs": [
    {
     "name": "stderr",
     "output_type": "stream",
     "text": [
      "\u001b[0;31mExecution error on line 11:\n",
      "\treturn SUM div COUNT (pseudocode)\n",
      "\treturn SUM / COUNT (python)\n",
      "ZeroDivisionError: division by zero\n",
      "\u001b[0m"
     ]
    }
   ],
   "source": [
    "sub Average(COLLECTION)\n",
    "    SUM = 0\n",
    "    COUNT = 0\n",
    "    loop while COLLECTION.hasNext()\n",
    "        VALUE = COLLECTION.getNext()\n",
    "        SUM = SUM + VALUE\n",
    "        COUNT = COUNT + 1\n",
    "    end loop\n",
    "    COLLECTION.resetNext()\n",
    "    \n",
    "    return SUM div COUNT\n",
    "end sub\n",
    "\n",
    "GRADES = Collection()  // empty\n",
    "output Average(GRADES)"
   ]
  },
  {
   "cell_type": "markdown",
   "metadata": {},
   "source": [
    "It is common and normal practice that functions check that pre-conditions are met, and returns values depending on those exceptions. So, in this case, we need to make sure that we won't divide by zero. There are two ways to do this, which one is better, and why?"
   ]
  },
  {
   "cell_type": "code",
   "execution_count": 6,
   "metadata": {},
   "outputs": [
    {
     "data": {
      "text/plain": [
       "None"
      ]
     },
     "execution_count": 6,
     "metadata": {},
     "output_type": "execute_result"
    }
   ],
   "source": [
    "// method #1: count the members, check for zero after counting\n",
    "sub Average(COLLECTION)\n",
    "    SUM = 0\n",
    "    COUNT = 0\n",
    "    loop while COLLECTION.hasNext()\n",
    "        VALUE = COLLECTION.getNext()\n",
    "        SUM = SUM + VALUE\n",
    "        COUNT = COUNT + 1\n",
    "    end loop\n",
    "    COLLECTION.resetNext()\n",
    "    \n",
    "    if COUNT = 0 then\n",
    "        return None  // py\n",
    "    end if\n",
    "    return SUM div COUNT\n",
    "end sub\n",
    "\n",
    "GRADES = Collection()\n",
    "output Average(GRADES)"
   ]
  },
  {
   "cell_type": "code",
   "execution_count": 7,
   "metadata": {},
   "outputs": [
    {
     "data": {
      "text/plain": [
       "None"
      ]
     },
     "execution_count": 7,
     "metadata": {},
     "output_type": "execute_result"
    }
   ],
   "source": [
    "// method #2: use the \"isEmpty\" method\n",
    "sub Average(COLLECTION)\n",
    "    if COLLECTION.isEmpty() then\n",
    "        return None  // py\n",
    "    end if\n",
    "    \n",
    "    SUM = 0\n",
    "    COUNT = 0\n",
    "    loop while COLLECTION.hasNext()\n",
    "        VALUE = COLLECTION.getNext()\n",
    "        SUM = SUM + VALUE\n",
    "        COUNT = COUNT + 1\n",
    "    end loop\n",
    "    COLLECTION.resetNext()\n",
    "    \n",
    "    return SUM div COUNT\n",
    "end sub\n",
    "\n",
    "GRADES = Collection()\n",
    "output Average(GRADES)"
   ]
  },
  {
   "cell_type": "markdown",
   "metadata": {},
   "source": [
    "Both functions will return `None` if the `COLLECTION` is empty, but it does it in two different ways. The first way is the more manual way, where it sets the variable to `0`, and since `.hasNext` returns `False` on the first attempt, it'll still be `0` on line 12 when we check for it.\n",
    "\n",
    "The second way is better, because it immediately uses a built-in method that return `True` if there are zero elements, and we can exit early. Not only is it better because there is less code involved, and therefore faster, but it is also better organized. The idea that the first thing a function should do is check the parameters for validity is something very commonly done in programming.\n",
    "\n",
    "So, both function return `None` but one does it better than the other, and hopefully it is clear why.\n",
    "\n",
    "> NOTE: `None` in Python is a special value that means roughly \"nothing\" or \"null\" or \"nadda\". When a value is nonsensical, or does not apply, we often use `None` to mean exactly this. Pseudocode doesn't really have this concept, as you are not tested in code on this. But the code helps us understand the concept.\n",
    "\n",
    "> CHALLENGE: Why do we do `.resetNext` on line 10 (first example) and line 14 (second example)?"
   ]
  },
  {
   "cell_type": "code",
   "execution_count": 1,
   "metadata": {},
   "outputs": [
    {
     "data": {
      "text/plain": [
       "What is the answer to all things?\n",
       "42\n",
       "*rimshot*"
      ]
     },
     "execution_count": 1,
     "metadata": {},
     "output_type": "execute_result"
    }
   ],
   "source": [
    "sub Calculate(START, BY, UNTIL)\n",
    "    NUM = START\n",
    "    loop NUM from START to UNTIL\n",
    "        NUM = NUM + BY\n",
    "    end loop\n",
    "    output NUM + 2\n",
    "end sub\n",
    "\n",
    "sub Enter(QUESTION)\n",
    "    output QUESTION\n",
    "end sub\n",
    "\n",
    "sub Exit()\n",
    "    output \"*rimshot*\"\n",
    "end sub\n",
    "\n",
    "Enter(\"What is the answer to all things?\")\n",
    "Calculate(1, 10, 30)\n",
    "Exit()"
   ]
  }
 ],
 "metadata": {
  "kernelspec": {
   "display_name": "Vanilla Python",
   "language": "vanilla_python",
   "name": "vanilla_python"
  },
  "language_info": {
   "file_extension": ".vanilla",
   "mimetype": "text/plain",
   "name": "vanilla_python"
  }
 },
 "nbformat": 4,
 "nbformat_minor": 2
}
