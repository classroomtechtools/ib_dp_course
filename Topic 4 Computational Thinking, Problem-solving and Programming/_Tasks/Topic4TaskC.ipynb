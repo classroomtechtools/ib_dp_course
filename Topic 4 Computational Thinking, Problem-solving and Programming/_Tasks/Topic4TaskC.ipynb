{
 "cells": [
  {
   "cell_type": "markdown",
   "metadata": {},
   "source": [
    "Write your code below"
   ]
  },
  {
   "cell_type": "code",
   "execution_count": 5,
   "metadata": {},
   "outputs": [
    {
     "data": {
      "text/plain": []
     },
     "execution_count": 5,
     "metadata": {},
     "output_type": "execute_result"
    }
   ],
   "source": [
    "// The Declarations:\n",
    "GIVENPOINTS = Collection.from_list([None, None, -100, -50, -25, 25, 50, 100]) // py\n",
    "GIVENSUBJECTS = Collection.from_list([\"English\", \"Math\", \"Science\", \"PE\", \"Music\", \"Humanities\"])  // py\n",
    "GIVENGRADES = Collection.from_list([6, 5, 6, 7, 3, 2, 5])  // py\n",
    "\n"
   ]
  }
 ],
 "metadata": {
  "kernelspec": {
   "display_name": "IB Pseudocode",
   "language": "ib_pseudocode",
   "name": "metakernel_pseudocode"
  },
  "language_info": {
   "file_extension": ".pseudo",
   "mimetype": "text/plain",
   "name": "ib_pseudocode"
  }
 },
 "nbformat": 4,
 "nbformat_minor": 2
}
