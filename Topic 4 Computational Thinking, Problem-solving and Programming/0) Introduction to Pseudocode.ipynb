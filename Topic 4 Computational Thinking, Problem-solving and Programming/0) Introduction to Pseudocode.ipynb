{
 "cells": [
  {
   "cell_type": "markdown",
   "metadata": {
    "tags": [
     "hide_input"
    ]
   },
   "source": [
    "# Topic 4.3, Pseudocode: \"Rewards for Grades\""
   ]
  },
  {
   "cell_type": "code",
   "execution_count": 15,
   "metadata": {
    "scrolled": true
   },
   "outputs": [
    {
     "data": {
      "text/html": [
       "<img src=\"https://docs.google.com/drawings/d/e/2PACX-1vRnFHNivJQhk4qCRWphPINdxQKytqt2suA3FaoPrGiSZMGtVPUBqBG6fb0k1-sX8eCXnzER0Oe15foc/pub?w=727&amp;h=253\">"
      ],
      "text/plain": [
       "<IPython.core.display.HTML object>"
      ]
     },
     "metadata": {},
     "output_type": "display_data"
    }
   ],
   "source": [
    "%%html\n",
    "<img src=\"https://docs.google.com/drawings/d/e/2PACX-1vRnFHNivJQhk4qCRWphPINdxQKytqt2suA3FaoPrGiSZMGtVPUBqBG6fb0k1-sX8eCXnzER0Oe15foc/pub?w=727&amp;h=253\">"
   ]
  },
  {
   "cell_type": "markdown",
   "metadata": {},
   "source": [
    "## Goals\n",
    "\n",
    "- You are going to learn all of the Vanilla Python (for SL) in the context of a real problem.\n",
    "\n",
    "- You are going to learn about the `Array` and `Collection` data structures, and how they differ from each other\n",
    "\n",
    "- You are going to be introduced to data structures such as `string` and `integer`\n",
    "\n",
    "- You will be able to apply these skills in \"Computational Thinking\" series of problems\n",
    "\n",
    "## Frontmatter\n",
    "\n",
    "### Source files\n",
    "\n",
    "You need to learn to code by typing it yourself, and here is the [starter location](https://repl.it/@adammorris/Week1) for that.\n",
    "\n",
    "### Links to the curriculum\n",
    "\n",
    "\n",
    "\n",
    "### Vocabulary\n",
    "\n",
    "- array\n",
    "- zero-indexed array\n",
    "- one-indexed array\n",
    "- variable\n",
    "- assign\n",
    "- value\n",
    "- populate (an array)\n",
    "- iterate\n",
    "- concatenate\n",
    "- collection\n",
    "- boolean\n",
    "\n",
    "## A1. Problem\n",
    "\n",
    "You are an IB student whose family is very keen to give rewards based on your results. They determine that you will receive \\\\$100 for every 7 achieved, \\\\$50 for every 6 achieved, and \\\\$25 for every 5 achieved. If you get a 4, you'll subtract \\\\$25, for a 3 you'll subtract \\\\$50, and for a 2 you will subtract \\\\$100 from your earnings.\n",
    "\n",
    "Given two arrays, one of integers from 1 to 7, and one with cooresponding subject, determine how much money you earn. As a bonus, also report some analytics, such as average score and a frequency chart.\n",
    "\n",
    "Last thing: If in the unfortunate event that you get a 1 or 0, the entire project is cancelled (\"Game Over\") and you are not given any money (no matter how you performed otherwise).\n",
    "\n",
    "For example, you get two 6s, two 7s, and two 2s, so you would receive\n",
    "\n",
    "$$2 * 50 + 2 * 100 - 2 * 100 = \\$100$$\n",
    "\n",
    "Or, you get five 6s but one 1, and you get 0.\n",
    "\n",
    "Ethical debate about money-driven motivation, and assignment of values is discussed.\n",
    "\n",
    "### A2. Solving it with spreadsheets\n",
    "\n",
    "Instead of using a program to solve this, we're going to use Google Sheets. We will then apply some of the concepts we learned in the spreadsheet, so that we can transfer the skills into our program. Plus, we'll have some experience with spreadsheets!\n",
    "\n",
    "#### Example Solution"
   ]
  },
  {
   "cell_type": "code",
   "execution_count": 9,
   "metadata": {},
   "outputs": [
    {
     "data": {
      "text/html": [
       "<iframe width=\"560\" height=\"315\" src=\"https://www.youtube.com/embed/nkBjBvko1Ac\" frameborder=\"0\" allow=\"accelerometer; autoplay; encrypted-media; gyroscope; picture-in-picture\" allowfullscreen></iframe>"
      ],
      "text/plain": [
       "<IPython.core.display.HTML object>"
      ]
     },
     "metadata": {},
     "output_type": "display_data"
    }
   ],
   "source": [
    "%%html\n",
    "<iframe width=\"560\" height=\"315\" src=\"https://www.youtube.com/embed/nkBjBvko1Ac\" frameborder=\"0\" allow=\"accelerometer; autoplay; encrypted-media; gyroscope; picture-in-picture\" allowfullscreen></iframe>"
   ]
  },
  {
   "cell_type": "code",
   "execution_count": 10,
   "metadata": {},
   "outputs": [
    {
     "data": {
      "text/html": [
       "<iframe src=\"https://docs.google.com/spreadsheets/d/e/2PACX-1vSL1oGQUI2hlrXYS_slsugnpnPwkv3EcBVppRgUbC4B_5EZTMXu_xMowl7PRY6gPewwwN4ap5urF98r/pubhtml?widget=true&amp;headers=false\" width=\"100%\" height=\"500px\"></iframe>"
      ],
      "text/plain": [
       "<IPython.core.display.HTML object>"
      ]
     },
     "metadata": {},
     "output_type": "display_data"
    }
   ],
   "source": [
    "%%html\n",
    "<iframe src=\"https://docs.google.com/spreadsheets/d/e/2PACX-1vSL1oGQUI2hlrXYS_slsugnpnPwkv3EcBVppRgUbC4B_5EZTMXu_xMowl7PRY6gPewwwN4ap5urF98r/pubhtml?widget=true&amp;headers=false\" width=\"100%\" height=\"500px\"></iframe>"
   ]
  },
  {
   "cell_type": "markdown",
   "metadata": {},
   "source": [
    "#### Link to the spreadsheet\n",
    "\n",
    "To follow along, here is a [link to the spreadsheet](https://docs.google.com/spreadsheets/d/1FzNwP-8B0090StVbLbynCf7NTR9PDfkLxeSGrjH3hx0/edit#gid=0) If you want to edit it, make a copy, and have fun.\n",
    "\n"
   ]
  },
  {
   "cell_type": "markdown",
   "metadata": {},
   "source": [
    "\n",
    "#### Video explaining how the spreadsheet works\n",
    "\n",
    "\n",
    "\n",
    "#### Spreadsheet Documentation\n",
    "\n",
    "For our Computer Science IA, you will be required to produce documentation on your practical solution. The documentation is extended paragraph writing (max 2000 words), but you will need appendixes in order to explain. This is a short example of what the appendix documentation might contain. This chart demonstrates what formulas were used in the creation of the spreadsheet:\n",
    "\n",
    "| Formula | Description |\n",
    "|---------|---|\n",
    "| [SUM](https://support.google.com/docs/answer/3093669)    | This is used to count the total amount of money accumulated |\n",
    "| [VLOOKUP](https://support.google.com/docs/answer/3093318) | This is used to map the given grade to the required points |\n",
    "| [COUNTIF](https://support.google.com/docs/answer/3093480) | This is used to count how many grades have been input into the spreadsheet |\n",
    "| [IF](https://support.google.com/docs/answer/3093364) | This is used to check the exception of when it is \"Game Over\" |\n",
    "| [FREQUENCY](https://support.google.com/docs/answer/3094286)   | This is used to output how many 0s and 1s grades there are |\n"
   ]
  },
  {
   "cell_type": "markdown",
   "metadata": {},
   "source": [
    "## B. Strings, Numbers, and Arrays\n",
    "\n",
    "### The Data\n",
    "\n",
    "First, let's consider what the given data for our problem looks like. A visualization is simple, just like a column in a spreadsheet:\n",
    "\n",
    "| Subject | Grade |\n",
    "|---------|---|\n",
    "| English    | 6 |\n",
    "| Math | 5 |\n",
    "| Biology | 6 |\n",
    "| Spanish | 6 |\n",
    "| History   | 4 |\n",
    "| Music   | 5 |\n",
    "\n",
    "The pattern here is that there are two columns of information. In computer speak, each column is an \"array.\" The first array contains words, but the second array has all numbers. In computer science speak, these two columns have different data types: The former is a `string` and the latter is a `number`.\n",
    "\n",
    "#### Strings and Numbers\n",
    "\n",
    "In the Vanilla Python used in this course, a string is created by using double quotes `\"` around a series of characters. A number is created by typing the digit, without quotes.\n",
    "\n",
    "This is string:\n",
    "```python\n",
    "\"Hello, World\"\n",
    "```\n",
    "\n",
    "In some languages, for example Python and Javascript, you can use either single quotes `'` or double quotes, but in Vanilla Python it must be a `\"`. \n",
    "\n",
    "This is a (large) number:\n",
    "```python\n",
    "10333\n",
    "```\n",
    "\n",
    "Notice that we do not use a comma to represent numbers in computer socde. This is because commas have a different meaning, and so for most languages we just type a number in the basic way, without commas. \n",
    "\n",
    "If you need a number with a decimal, you can write it like this:\n",
    "\n",
    "```python\n",
    "10.5\n",
    "```\n",
    "\n",
    "We will investigate further on numbers in a different section of our course.\n",
    "\n",
    "#### Creating variables, assignent, and using the `output` statement\n",
    "\n",
    "You can create a section in computer memory that has a name, with the use of variables. You can then \"assign\" these variables particular values. In the Vanilla Python, they must be capital letters. This is how to make a string variable:\n",
    "\n",
    "```python\n",
    "VAR = \"Hello, World\"\n",
    "```\n",
    "\n",
    "This is how to make a number variable:\n",
    "\n",
    "```python\n",
    "VAR = 10333\n",
    "```\n",
    "\n",
    "Most of our programs will need to output a final result. For example, in our example program, we need to output how much money we have earned (or owe): We do that with the `output` keyword, and it works like this:"
   ]
  },
  {
   "cell_type": "code",
   "execution_count": 1,
   "metadata": {},
   "outputs": [
    {
     "data": {
      "text/plain": [
       "This is how much money you have earned. (Negative number indicates you owe money.):\n",
       "-100"
      ]
     },
     "execution_count": 1,
     "metadata": {},
     "output_type": "execute_result"
    }
   ],
   "source": [
    "EXPLANATION = \"This is how much money you have earned. (Negative number indicates you owe money.):\"\n",
    "EARNEDCASH = -100  // oh no!\n",
    "\n",
    "output EXPLANATION\n",
    "output EARNEDCASH"
   ]
  },
  {
   "cell_type": "markdown",
   "metadata": {},
   "source": [
    "\n",
    "This is an equivalent way of writing the same code:"
   ]
  },
  {
   "cell_type": "code",
   "execution_count": 11,
   "metadata": {},
   "outputs": [
    {
     "data": {
      "text/plain": [
       "This is how much money you have earned (negative numbers indicates you owe money.): -100"
      ]
     },
     "execution_count": 11,
     "metadata": {},
     "output_type": "execute_result"
    }
   ],
   "source": [
    "EXPLANATION = \"This is how much money you have earned\"\n",
    "COMMENT = \"(negative numbers indicates you owe money.): \"\n",
    "EARNEDCASH = -100  // oh no!\n",
    "\n",
    "out EXPLANATION , COMMENT\n",
    "output EARNEDCASH"
   ]
  },
  {
   "cell_type": "markdown",
   "metadata": {},
   "source": [
    "#### Review:\n",
    "\n",
    "- Variables are always capitalized\n",
    "- Strings are represented with double quotes\n",
    "- Numbers are represented by a sequence of digits (no commas)\n",
    "- Decimals are represented by using a dot (just like in writing)\n",
    "- The `output` keyword provides the values as output\n",
    "- You can use commas with the `output` keyword to output multiple items"
   ]
  },
  {
   "cell_type": "markdown",
   "metadata": {},
   "source": [
    "#### Create, and populate, an array\n",
    "\n",
    "Okay, so we need to go back to our original data. Now that we know how to represent strings and numbers with computer code, how do we represent colunns?\n",
    "\n",
    "All computer languages use the concept of an `array` to represent a sequence of data points. Many languages such as Python and JavaScript use a simple way of creating arrays, but for us with pseudocode, we will need to do it in this way:"
   ]
  },
  {
   "cell_type": "code",
   "execution_count": 7,
   "metadata": {},
   "outputs": [
    {
     "data": {
      "text/plain": [
       "Array.from_list([])"
      ]
     },
     "execution_count": 7,
     "metadata": {},
     "output_type": "execute_result"
    }
   ],
   "source": [
    "VARIABLENAME = Array()\n",
    "\n",
    "// what happens when we output the array?\n",
    "output VARIABLENAME"
   ]
  },
  {
   "cell_type": "markdown",
   "metadata": {},
   "source": [
    "Let's look at this as a language. Here we have a \"variable\" named \"VARIABLENAME\" created so that it is a `Array`. Here, the word itself represents the structure of the data that we want to create (a sequence of data points), but doesn't actually \"make\" it; we use the parentheses `()` in order to command the computer to actually create the space in memory. \n",
    "\n",
    "In computer memory, after `Array()` is executed, there is an area in computer memory that is reserved for use, just like a spreadsheet column, that can now be filled with data. Filling data in an array is called \"populating\" an array.\n",
    "\n",
    "By default, it's completely empty, you have to fill it with stuff!\n",
    "\n",
    "When you output the newly created array, in Vanilla Python it presents the weird-looking `Array.from_list([])` which is just a fancy way of saying \"empty array.\"\n",
    "\n",
    "But wait, we need two arrays! And let's give them names that describes what the information each array holds:"
   ]
  },
  {
   "cell_type": "code",
   "execution_count": 6,
   "metadata": {},
   "outputs": [
    {
     "data": {
      "text/plain": [
       "String\n",
       "42\n",
       "First element\n",
       "Array.from_list(['First element'])"
      ]
     },
     "execution_count": 6,
     "metadata": {},
     "output_type": "execute_result"
    }
   ],
   "source": [
    "ARRAY = Array()\n",
    "ARRAY[0] = \"First element\"\n",
    "\n",
    "STRING = \"String\"\n",
    "NUMBER = 42\n",
    "\n",
    "// output for native data types\n",
    "output STRING\n",
    "output NUMBER\n",
    "output ARRAY[0]\n",
    "\n",
    "// output for objects\n",
    "output ARRAY"
   ]
  },
  {
   "cell_type": "markdown",
   "metadata": {},
   "source": [
    "The `=` is not quite like how it works in mathematics, what it does is \"assign\" the value on the right to the location on the computer that is named on the left."
   ]
  },
  {
   "cell_type": "markdown",
   "metadata": {},
   "source": [
    "Right, so now it's like we have two columns of information, that is the same as a spreadsheet. The name of the variable is the same as the column (with \"GIVEN\" in front). So how do we populate it? How do we say that the subject in row 1 is \"English\" and the grade is the number 6?"
   ]
  },
  {
   "cell_type": "code",
   "execution_count": 10,
   "metadata": {},
   "outputs": [
    {
     "data": {
      "text/plain": [
       "Array.from_list(['English'])\n",
       "Array.from_list([6])"
      ]
     },
     "execution_count": 10,
     "metadata": {},
     "output_type": "execute_result"
    }
   ],
   "source": [
    "GIVENSUBJECTS = Array()\n",
    "GIVENGRADES = Array()\n",
    "\n",
    "GIVENSUBJECTS[0] = \"English\"\n",
    "GIVENGRADES[0] = 6\n",
    "\n",
    "output GIVENSUBJECTS\n",
    "output GIVENGRADES"
   ]
  },
  {
   "cell_type": "markdown",
   "metadata": {},
   "source": [
    "Okay, the `[` and `]` are special characters in pseudocode, which are the same as referring to rows  in a spreadsheet. It's equivalent to saying \"put the word `\"English\"` into the cell of the first row of the \"Subject\" column.\"\n",
    "\n",
    "But wait, why is it `0` instead of `1`? It's the first row, right? In computer science, there is a concept known as \"zero indexed\" and \"one indexed\" arrays, where in the former `0` is the first element, and in the latter it's `1`. In Vanilla Python arrays are zero-indexed. It is a mistake to think that `[1]` is the first row; it's actually the second. (If this is confusing to you, consider that when you use an elevator, many countries call the \"0\" floor the \"G\" floor, and that the first floor is actually the second. One of the most common bugs in computer science is the [one-off error](https://simple.wikipedia.org/wiki/Off-by-one_error).)\n",
    "\n",
    "In Vanilla Python, that's all that arrays can do. You can set elements, or get them, using the `[]` notation:"
   ]
  },
  {
   "cell_type": "code",
   "execution_count": 3,
   "metadata": {},
   "outputs": [
    {
     "data": {
      "text/plain": [
       "First element"
      ]
     },
     "execution_count": 3,
     "metadata": {},
     "output_type": "execute_result"
    }
   ],
   "source": [
    "// set element\n",
    "LIST = Array()\n",
    "LIST[0] = \"First element\"\n",
    "\n",
    "// get element\n",
    "output LIST[0]"
   ]
  },
  {
   "cell_type": "markdown",
   "metadata": {},
   "source": [
    "#### Task B1\n",
    "\n",
    "Complete the rest of this by going to "
   ]
  },
  {
   "cell_type": "code",
   "execution_count": 7,
   "metadata": {},
   "outputs": [
    {
     "data": {
      "text/plain": [
       "Array.from_list(['English', 'Math'])\n",
       "Array.from_list([6, 5])"
      ]
     },
     "execution_count": 7,
     "metadata": {},
     "output_type": "execute_result"
    }
   ],
   "source": [
    "GIVENSUBJECTS = Array()\n",
    "GIVENGRADES = Array()\n",
    "\n",
    "GIVENSUBJECTS[0] = \"English\"\n",
    "GIVENGRADES[0] = 6\n",
    "GIVENSUBJECTS[1] = \"Math\"\n",
    "GIVENGRADES[1] = 5\n",
    "\n",
    "// continue yourself here:\n",
    "\n",
    "// stop typing here\n",
    "\n",
    "output GIVENSUBJECTS\n",
    "output GIVENGRADES"
   ]
  },
  {
   "cell_type": "markdown",
   "metadata": {},
   "source": [
    "That is what you'll see if you haven't completed the task, but if you have, you'll see all of the subjects, and all of the grades in the output.\n",
    "\n",
    "### An Array of Points\n",
    "\n",
    "In order to complete our task we need to make another Array, too. This one is going to be called `GIVENPOINTS` and is an Array of how much money we are given at specific grades. How do do this? \n",
    "\n",
    "#### Task B2\n",
    "\n",
    "Enter the remaining items:"
   ]
  },
  {
   "cell_type": "code",
   "execution_count": 8,
   "metadata": {},
   "outputs": [
    {
     "data": {
      "text/plain": [
       "Array.from_list([None, None, None, None, None, None, 50, 100])"
      ]
     },
     "execution_count": 8,
     "metadata": {},
     "output_type": "execute_result"
    }
   ],
   "source": [
    "GIVENPOINTS = Array()\n",
    "\n",
    "// Enter here:\n",
    "\n",
    "\n",
    "GIVENPOINTS[6] = 50\n",
    "GIVENPOINTS[7] = 100\n",
    "\n",
    "output GIVENPOINTS"
   ]
  },
  {
   "cell_type": "markdown",
   "metadata": {},
   "source": [
    "Note, though, that if you were to run as given to you above, you'll get the following:\n",
    "\n",
    "```python\n",
    "Array.from_list([None, None, None, None, None, None, 50, 100])\n",
    "```"
   ]
  },
  {
   "cell_type": "markdown",
   "metadata": {},
   "source": [
    "What are those `None`s doing there? Well, they are like placeholders, since we haven't defined them. In a spreadsheet, it would be a like a blank cell. We don't have anything in `GIVENPOINTS[0]`, `[1]`, `[2]`, `[3]`, or `[4]` so they are defined as `None` by default.\n",
    "\n",
    "If you complete the task successfully, you'll see this in the result:\n",
    "\n",
    "```python\n",
    "Array.from_list([None, None, -100, -50, -25, 25, 50, 100])\n",
    "```"
   ]
  },
  {
   "cell_type": "markdown",
   "metadata": {},
   "source": [
    "We'll use this `GIVENPOINTS` variable later, but for now we understand how Arrays work and how they represent information like a column in a spreadsheet. \n",
    "\n",
    "### Learn how to go through items in an Array\n",
    "\n",
    "Going back to the subject and grades columns, the `GIVENSUBJECTS` and `GIVENGRADES` arrays, we have to go through each one. \n",
    "\n",
    "This is the manual way to do it. It outputs one-by-one, using the `output` name and commas (`,`) to indicate concatenation."
   ]
  },
  {
   "cell_type": "code",
   "execution_count": 15,
   "metadata": {},
   "outputs": [
    {
     "data": {
      "text/plain": [
       "For English got 6 grade, for 50 points.\n",
       "For Math got 5 grade, for 25 points."
      ]
     },
     "execution_count": 15,
     "metadata": {},
     "output_type": "execute_result"
    }
   ],
   "source": [
    "GIVENPOINTS = Array.from_list([None, None, -100, -50, -25, 25, 50, 100])  // py\n",
    "GIVENSUBJECTS = Array()  // py\n",
    "GIVENGRADES = Array()  // py\n",
    "\n",
    "GIVENSUBJECTS[0] = \"English\"\n",
    "GIVENGRADES[0] = 6\n",
    "GIVENSUBJECTS[1] = \"Math\"\n",
    "GIVENGRADES[1] = 5\n",
    "\n",
    "output \"For \" , GIVENSUBJECTS[0] , \" got \" , GIVENGRADES[0] , \" grade, for \" , GIVENPOINTS[GIVENGRADES[0]], \" points.\"\n",
    "output \"For \" , GIVENSUBJECTS[1] , \" got \" , GIVENGRADES[1] , \" grade, for \" , GIVENPOINTS[GIVENGRADES[1]], \" points.\"\n"
   ]
  },
  {
   "cell_type": "markdown",
   "metadata": {},
   "source": [
    "That way is just painful. That's why in computer science we have loops:"
   ]
  },
  {
   "cell_type": "code",
   "execution_count": 16,
   "metadata": {},
   "outputs": [
    {
     "data": {
      "text/plain": [
       "For English got 6 for 50 points\n",
       "For Math got 5 for 25 points\n",
       "For Science got 6 for 50 points\n",
       "For PE got 7 for 100 points\n",
       "For Music got 3 for -50 points\n",
       "For Humanities got 2 for -100 points\n",
       "Total cash: $75"
      ]
     },
     "execution_count": 16,
     "metadata": {},
     "output_type": "execute_result"
    }
   ],
   "source": [
    "// The Declarations:\n",
    "GIVENPOINTS = Array.from_list([None, None, -100, -50, -25, 25, 50, 100]) // py\n",
    "GIVENSUBJECTS = Array.from_list([\"English\", \"Math\", \"Science\", \"PE\", \"Music\", \"Humanities\"])  // py\n",
    "GIVENGRADES = Array.from_list([6, 5, 6, 7, 3, 2, 5])  // py\n",
    "\n",
    "// The Initializations:\n",
    "TOTAL = 0\n",
    "\n",
    "// The Loop:\n",
    "loop NUM from 0 to 5\n",
    "    SUBJECT = GIVENSUBJECTS[NUM]\n",
    "    GRADE =  GIVENGRADES[NUM]\n",
    "    POINTS = GIVENPOINTS[GRADE]\n",
    "    output \"For \" , SUBJECT , \" got \" , GRADE , \" for \" , POINTS , \" points\"\n",
    "    TOTAL = TOTAL + POINTS\n",
    "end loop\n",
    "\n",
    "// Output result:\n",
    "output \"Total cash: $\" , TOTAL"
   ]
  },
  {
   "cell_type": "markdown",
   "metadata": {},
   "source": [
    "The above code is the first time that I need to explain a convention that we need to use. At the top are declarations, which for now we are going to not discuss too thoroughly, but basically we need to provide some code that sets up the information, so that we can write code to illustrate some concepts. It is not really Vanilla Python, it is actually Python code.\n",
    "\n",
    "Any code that is labelled as \"declarations\" or with ` // py` at the end (two spaces, a hash symbol, and `py`) is declaration code. For Vanilla Python on Paper 1, you will not have to write this, but we need to write it here for things to work.\n",
    "\n",
    "For now, though, we want to learn how to do a loop, which is displayed here:\n",
    "\n",
    "```python\n",
    "TOTAL = 0\n",
    "loop NUM from 0 to 5\n",
    "    SUBJECT = GIVENSUBJECTS[NUM]\n",
    "    GRADE =  GIVENGRADES[NUM]\n",
    "    POINTS = GIVENPOINTS[GRADE]\n",
    "    output \"For \" , SUBJECT , \" got \" , POINTS , \" points\"\n",
    "    TOTAL = TOTAL + POINTS\n",
    "end loop\n",
    "\n",
    "output \"Total points: \" , TOTAL\n",
    "```\n",
    "\n",
    "Notice a few things about the code above. First of all, there's like a paragraph formed by indenting, which is a requirement in the way that we write our pseudocode. These paragraphs define \"blocks\" of code which is a way to structure our programs. In this case, the indented lines (the paragraph) form the loop. The line above the indentions define how many times that block gets executed, and the value of the variable `NUM` each time.\n",
    "\n",
    "To step through the code, the first time `NUM` will hold the value `0` and will be incremented until it reaches `6`, and then stops before executing with value of `6`. Inside the block of code, we assign three variables (`SUBJECT`, `GRADE`, and `POINTS`) to hold the respective values, and then we output the values.\n",
    "\n",
    "This kind of loop is called a \"for loop\" or in many programming languages, because they will often use the `for` keyword to implement it (Pseudocode does not, but Python and JavaScript both do). There are other kinds of loops, which we will cover in other sessions.\n",
    "\n",
    "#### Task B3: Understand errors, debugging with `output` statements\n",
    "\n",
    "Although not a part of the original problem, we decide to get extra fancy and add a feature: Report the average score.\n",
    "\n",
    "We will learn about the different kinds of errors we are likely to encounter, what they mean so we can fix things. It also helps us to avoid errors in our code.\n",
    "\n",
    "For this task, we need to learn how to assign the variable `GIVENGRADES` to anything we like, so we can explore what's happening. This is how to do that in a longer, more manual way:\n"
   ]
  },
  {
   "cell_type": "code",
   "execution_count": 11,
   "metadata": {},
   "outputs": [
    {
     "data": {
      "text/plain": []
     },
     "execution_count": 11,
     "metadata": {},
     "output_type": "execute_result"
    }
   ],
   "source": [
    "GIVENGRADES = Array()\n",
    "GIVENGRADES[0] = 5\n",
    "GIVENGRADES[1] = 3\n",
    "// and so on"
   ]
  },
  {
   "cell_type": "markdown",
   "metadata": {},
   "source": [
    "But that's painful. Instead let's do this instead:"
   ]
  },
  {
   "cell_type": "code",
   "execution_count": 12,
   "metadata": {},
   "outputs": [
    {
     "data": {
      "text/plain": []
     },
     "execution_count": 12,
     "metadata": {},
     "output_type": "execute_result"
    }
   ],
   "source": [
    "// six grades:                  1  2  3  4  5  6\n",
    "GIVENGRADES = Array.from_list( [5, 3, 6, 7, 6, 7] )  // py"
   ]
  },
  {
   "cell_type": "markdown",
   "metadata": {},
   "source": [
    "And this is the entire code, which is broken up into different parts:"
   ]
  },
  {
   "cell_type": "code",
   "execution_count": 7,
   "metadata": {},
   "outputs": [
    {
     "data": {
      "text/plain": [
       "Average = 5.666666666666667"
      ]
     },
     "execution_count": 7,
     "metadata": {},
     "output_type": "execute_result"
    }
   ],
   "source": [
    "// declarations\n",
    "GIVENGRADES = Array.from_list( [5, 3, 6, 7, 6, 7] )  // py\n",
    "\n",
    "// initialization\n",
    "COUNT = 0\n",
    "SUM = 0\n",
    "\n",
    "// go from 0 to 5\n",
    "loop NUM from 0 to 5\n",
    "    COUNT = COUNT + 1\n",
    "    GRADE = GIVENGRADES[NUM]\n",
    "    SUM = SUM + GRADE\n",
    "end loop\n",
    "\n",
    "// perform arithmetic\n",
    "AVERAGE = SUM / COUNT\n",
    "\n",
    "// report\n",
    "output \"Average = \" , AVERAGE"
   ]
  },
  {
   "cell_type": "markdown",
   "metadata": {},
   "source": [
    "Your task is to look at the `COUNT` variable and change the code, so that instead of being incremented in the loop, it has the correct value from the beginning. Understand why in fact the `COUNT` variable is not really used (we will actually use it in a different program, though).\n",
    "\n",
    "##### Task B3.1\n",
    "\n",
    "In this task, we're going to try and break things in order to learn about them. We will break them, but also add things to understand why they are broken, and in that way learn how to debug a program. \n",
    "\n",
    "Observe the error that gets output in the following code, where we only have three values in `GIVENGRADES`:"
   ]
  },
  {
   "cell_type": "code",
   "execution_count": 8,
   "metadata": {},
   "outputs": [
    {
     "name": "stdout",
     "output_type": "stream",
     "text": [
      "NUM = 0\n",
      "GRADE = 5\n",
      "NUM = 1\n",
      "GRADE = 6\n",
      "NUM = 2\n",
      "GRADE = 5\n",
      "NUM = 3\n",
      "GRADE = None\n"
     ]
    },
    {
     "name": "stderr",
     "output_type": "stream",
     "text": [
      "\u001b[0;31mExecution error on line 13:\n",
      "\tSUM = SUM + GRADE (pseudocode)\n",
      "\tSUM = SUM + GRADE (python)\n",
      "TypeError: unsupported operand type(s) for +: 'int' and 'NoneType'\n",
      "\u001b[0m"
     ]
    }
   ],
   "source": [
    "GIVENGRADES = Array.from_list( [5, 6, 5] )  // py\n",
    "\n",
    "// initialize variables\n",
    "COUNT = 0\n",
    "SUM = 0\n",
    "\n",
    "// go from 0 to 5\n",
    "loop NUM from 0 to 5\n",
    "    output \"NUM = \" , NUM \n",
    "    COUNT = COUNT + 1\n",
    "    GRADE = GIVENGRADES[NUM]\n",
    "    output \"GRADE = \", GRADE\n",
    "    SUM = SUM + GRADE\n",
    "end loop\n",
    "\n",
    "// perform arithmetic\n",
    "AVERAGE = SUM / COUNT\n",
    "\n",
    "// report\n",
    "output \"Average = \" , AVERAGE"
   ]
  },
  {
   "cell_type": "markdown",
   "metadata": {},
   "source": [
    "The error is somewhat cryptic (as is most errors), but if we think about it, it makes sense. \n",
    "\n",
    "We can see that the problem happens when `NUM` has the value `3`, because `GIVENGRADES[NUM]` is `None`. Aha! That's because there is no fourth grade given, only three of them, and in an array when it's empty it is just `None`. Right, and what does it mean to \"add\" a number `5` to the value `None`. It doesn't make sense does it? What's the result supposed to be? If it doesn't make sense to you, it's not going to make sense to a computer, either, and so that is why there is an error.\n",
    "\n",
    "The \"easy\" fix is to simply change the `5` in the loop to `2`, and it'll work. \n",
    "\n",
    "However, that fix is kinda pointless. That way of fixing things is known as \"hard coding\" and if we want to be skilled programmers we need to try and make things work, no matter how many grades there are. Right now are code cannot cope if there is anything but three grades.\n",
    "\n",
    "In the next task, we are going to rewrite our code so that we don't have to know how many grades there are.\n",
    "\n",
    "## C. Collections vs Arrays\n",
    "\n",
    "### Limitations of Vanilla Python Arrays\n",
    "\n",
    "An array is an important data structure, but in Vanilla Python it is quite limited. As we learned above, if you want to go through each item, you have to know how many elements there are, and there is no way to do that in Vanilla Python.\n",
    "\n",
    "(In all modern languages, however, it is worth knowing that there is a way to know how many elements are in an array. Typically, there is a way to find out the \"length\" or \"size\" of the array. But not in Pseudocode.)\n",
    "\n",
    "Instead, however, Vanilla Python offers a `Collection` which is very similar to arrays, but is much more powerful than just the basic array. You have to interact with it in a different way as well. Instead of using the `[]` notation, we call methods.\n",
    "\n",
    "### Creating and Populating a Collection\n",
    "\n",
    "Here's how to populate a collection:\n"
   ]
  },
  {
   "cell_type": "code",
   "execution_count": 15,
   "metadata": {},
   "outputs": [
    {
     "data": {
      "text/plain": [
       "Collection.from_list([5, 7])"
      ]
     },
     "execution_count": 15,
     "metadata": {},
     "output_type": "execute_result"
    }
   ],
   "source": [
    "GIVENGRADES = Collection()\n",
    "GIVENGRADES.addItem(5)  // method \"addItem\"\n",
    "GIVENGRADES.addItem(7)\n",
    "output GIVENGRADES"
   ]
  },
  {
   "cell_type": "markdown",
   "metadata": {},
   "source": [
    "The collection object has a **method**, called `addItem` which takes as the only **parameter**, the item to be added. Now how do we retrieve them?\n",
    "\n",
    "### Retrieving values from a Collection\n",
    "\n",
    "Let's learn how to `loop while` something is true, to see how to use `hasNext` and `getNext`:"
   ]
  },
  {
   "cell_type": "code",
   "execution_count": 21,
   "metadata": {},
   "outputs": [
    {
     "data": {
      "text/plain": [
       "Found grade 5\n",
       "Found grade 7\n",
       "Found it again: 5\n",
       "Found it again: 7"
      ]
     },
     "execution_count": 21,
     "metadata": {},
     "output_type": "execute_result"
    }
   ],
   "source": [
    "GIVENGRADES = Collection()\n",
    "GIVENGRADES.addItem(5)\n",
    "GIVENGRADES.addItem(7)\n",
    "\n",
    "loop while GIVENGRADES.hasNext()  // do you have another one?\n",
    "    VALUE = GIVENGRADES.getNext()\n",
    "    output \"Found grade \" , VALUE\n",
    "end loop\n",
    "\n",
    "// what happens if this next line is not written? See and find out:\n",
    "GIVENGRADES.resetNext()\n",
    "\n",
    "loop while GIVENGRADES.hasNext()\n",
    "    VALUE = GIVENGRADES.getNext()\n",
    "    output \"Found it again: \" , VALUE\n",
    "end loop"
   ]
  },
  {
   "cell_type": "markdown",
   "metadata": {},
   "source": [
    "This will output every value in the collection, without knowing how many elements there are. That is because `hasNext` returns `true` until there are no more.\n",
    "\n",
    "A **Collection** is a pseudocode construct, which has any number of elements. We test to see if there are any left. The full\n",
    "\n",
    "#### Task C\n",
    "\n",
    "Your task is to rewrite the code from Task B3, that instead of doing\n",
    "\n",
    "```\n",
    "loop NUM from 0 to 5\n",
    "end loop\n",
    "```\n",
    "\n",
    "instead use\n",
    "\n",
    "```\n",
    "loop while\n",
    "end loop\n",
    "```\n",
    "\n",
    "You can use [this link](/notebooks/Topic4TaskC.ipynb) to get started in a new notebook."
   ]
  },
  {
   "cell_type": "markdown",
   "metadata": {},
   "source": [
    " ## D. Solution\n",
    "\n",
    "The basic strategy we have here then is to go through the collection of grades we have, figure out how many points each grade represents, and then report to the user the result."
   ]
  },
  {
   "cell_type": "code",
   "execution_count": 23,
   "metadata": {},
   "outputs": [
    {
     "data": {
      "text/plain": [
       "Got 5 in English for 25 points.\n",
       "Got 6 in Math for 50 points.\n",
       "Got 7 in Science for 100 points.\n",
       "Got: $175"
      ]
     },
     "execution_count": 23,
     "metadata": {},
     "output_type": "execute_result"
    }
   ],
   "source": [
    "GIVENGRADES = Collection.from_list([5, 6, 7])  // py\n",
    "GIVENSUBJECTS = Collection.from_list([\"English\", \"Math\", \"Science\"])  // py\n",
    "GIVENPOINTS = Array.from_list([None, None, -100, -50, -25, 25, 50, 100])  // py\n",
    "\n",
    "COUNT = 0\n",
    "SUM = 0\n",
    "loop while GIVENGRADES.hasNext()\n",
    "    SUBJECT = GIVENSUBJECTS[COUNT]\n",
    "    COUNT = COUNT + 1\n",
    "    GRADE = GIVENGRADES.getNext()\n",
    "    \n",
    "    // determine how many points\n",
    "    POINTS = GIVENPOINTS[GRADE]\n",
    "    SUM = SUM + POINTS\n",
    "    \n",
    "    output \"Got \" , GRADE , \" in \" , SUBJECT , \" for \" , POINTS , \" points.\"\n",
    "end loop\n",
    "\n",
    "output \"Got: $\", SUM"
   ]
  },
  {
   "cell_type": "markdown",
   "metadata": {},
   "source": [
    "### Understanding the code\n",
    "\n",
    "#### Task D1\n",
    "\n",
    "- In the first line in the `loop` block, why do we use the `COUNT` variable on line 9 to assign the `SUBJECT` variable first, before incrementing `COUNT`? What would happen if we incremented `COUNT` first on line 8?\n",
    "\n",
    "#### Task D2\n",
    "\n",
    "The original task specified that if a student gets either a 1 or 0 in a subject, that they would automatically not get any points at all. How do we make it output \"Sorry\" if the user gets a 1 or 0 in any subject?\n",
    "\n",
    "To do this, you'll need an if statement somewhere:\n",
    "\n",
    "```\n",
    "GRADE = 2\n",
    "if GRADE = 0 OR GRADE = 1 then\n",
    "    // do something\n",
    "end if\n",
    "```"
   ]
  },
  {
   "cell_type": "markdown",
   "metadata": {},
   "source": [
    "Inside the if block, you'll need to set a variable `FLAG` to `true`, and then outside the loop, check if `FLAG` is true, and if so do something different.\n",
    "\n",
    "```\n",
    "loop while GIVENGRADES.hasNext()\n",
    "    if GRADE = 0 OR GRADE = 1 then\n",
    "        FLAG = true\n",
    "    end if\n",
    "    \n",
    "    // get the subject, calculate the points here\n",
    "end loop\n",
    "\n",
    "if FLAG = true\n",
    "    output \"Sorry\"\n",
    "else\n",
    "    // output the total cash here\n",
    "end if\n",
    "```\n",
    "\n",
    "Can you take these various code snippets and put it into a workable solution? Make a new notebook for this task."
   ]
  },
  {
   "cell_type": "markdown",
   "metadata": {},
   "source": [
    "## Practice Tasks:"
   ]
  },
  {
   "cell_type": "markdown",
   "metadata": {},
   "source": [
    "For CAS, you are preparing fruit baskets for orphanages. You have 1000 pieces of eight different kinds of fruits and you want to calculate how many of each kind of fruit you have, so you can make 10 baskets that have the same number of fruits in each basket.\n",
    "\n",
    "Your program should output a frequency table, with each name of the fruit followed by how many of them there are.\n",
    "\n",
    "**BONUS**: There are exactly enough of each fruit to be divided by 10 equally. Can you write a program that outputs information like this (the numbers are incorrect for the problem):\n",
    "\n",
    "```\n",
    "Basket #1: \n",
    "2 bananna\n",
    "1 watermellon\n",
    "5 grape\n",
    "\n",
    "Basket #2:\n",
    "2 bananna\n",
    "1 watermellon\n",
    "5 grape\n",
    "\n",
    "...\n",
    "```\n",
    "\n",
    "For this task, make a new notebook with Vanilla Python, place it into your `_Student` folder and see if you can get it to work. Use this to get started:"
   ]
  },
  {
   "cell_type": "code",
   "execution_count": 28,
   "metadata": {},
   "outputs": [
    {
     "data": {
      "text/plain": []
     },
     "execution_count": 28,
     "metadata": {},
     "output_type": "execute_result"
    }
   ],
   "source": [
    "LIST = Array.from_file(\"../_Files/Fruits.txt\")"
   ]
  }
 ],
 "metadata": {
  "kernelspec": {
   "display_name": "Vanilla Python",
   "language": "vanilla_python",
   "name": "vanilla_python"
  },
  "language_info": {
   "file_extension": ".vanilla",
   "mimetype": "text/plain",
   "name": "vanilla_python"
  }
 },
 "nbformat": 4,
 "nbformat_minor": 4
}
