{
 "cells": [
  {
   "cell_type": "markdown",
   "metadata": {},
   "source": [
    "# Topic 4: Computational Thinking\n",
    "\n",
    "## Topic 4.1.1 Identify the procedure appropriate to solving a problem\n",
    "\n",
    "This is basically working backwards from your own understanding, to thinking how the computer needs to \"understand\" it in order to produce the same output. Let's take a math problem, such as the below:\n",
    "\n",
    "Identify the formula that describes these sequences:\n",
    "\n",
    "*Keep it simple:*\n",
    "\n",
    "$ \\{ 1, 4, 7, 10, 13 \\} $\n",
    "\n",
    "$\\{ 1, 2, 3, 4, 6, 12 \\} $\n",
    "\n",
    "*Challenging:*\n",
    "\n",
    "$\\{ 0, 1, 4, 9 \\} $\n",
    "\n",
    "$\\{ 2, 4, 16, 256, 65536 \\} $\n",
    "\n",
    "\n",
    "What is the pattern that will result in that output? Can you write some pseudocode to get the same output?"
   ]
  },
  {
   "cell_type": "code",
   "execution_count": null,
   "metadata": {},
   "outputs": [],
   "source": [
    "// Use a collection to store the first 20 numbers in the sequence above\n",
    "RESULT = Collection()\n",
    "\n",
    "// your code here\n",
    "RESULT[0]\n",
    "output RESULT"
   ]
  },
  {
   "cell_type": "markdown",
   "metadata": {},
   "source": [
    "*** \n",
    "## Topic 4.1.2 Evaluate whether the order in which activities are undertaken will result in the required outcome\n",
    "\n",
    "This is essentially looking at code and being able to determine if it will produce the desired output. This requires being able to read your own code and step through it in order to ensure your understanding is correct.\n",
    "\n",
    "Let's try to produce the following sequence, known as the fibnocci sequence:\n",
    "\n",
    "$ \\{ 0, 1, 1, 2, 3, 5, 8 \\} $\n",
    "\n",
    "The pattern of the fibnocci sequence can be seen more clearly if we look at the pattern below, where the __value__ is __bold__ and the _previous values_ are _italicized_.\n",
    "\n",
    "$ \\{ \\textbf{0}\\ ,\n",
    "\\ \\ \\ \\textbf{1}\\ ,\n",
    "\\ \\ \\ \\textit{0} + \\textit{1} = \\textbf{1}\\ ,\n",
    "\\ \\ \\ \\textit{1} + \\textit{1} = \\textbf{2}\\ ,\n",
    "\\ \\ \\ \\textit{1} + \\textit{2} = \\textbf{3}\\ ,\n",
    "\\ \\ \\ \\textit{2} + \\textit{3} = \\textbf{5}\\ ,\n",
    "\\ \\ \\ \\textit{3} + \\textit{5} = \\textbf{8} \\} $\n",
    "\n",
    "The first two are given: `0` and `1`. The next element is calculated as the sum of the previous two elements: `0 + 1 = 1`. The element after that becomes `1 + 1 = 2`, after that `1 + 2 = 3`, and so on."
   ]
  },
  {
   "cell_type": "code",
   "execution_count": 5,
   "metadata": {},
   "outputs": [
    {
     "data": {
      "text/plain": [
       "Collection.from_list([0, 1, 1, 2, 3, 5, 8, 13, 21, 34, 55, 89, 144, 233, 377, 610, 987, 1597, 2584, 4181])"
      ]
     },
     "execution_count": 5,
     "metadata": {},
     "output_type": "execute_result"
    }
   ],
   "source": [
    "// This program produces the first 20 numbers in the fibinocci sequence\n",
    "// It is given that the first two numbers in the sequence are 0 and 1\n",
    "RESULT = Collection.from_list([0, 1])\n",
    "\n",
    "PREV_PREV = RESULT[0]\n",
    "PREV = RESULT[1]\n",
    "\n",
    "loop COUNT from 3 to 20\n",
    "    // store the new value\n",
    "    NEW = PREV_PREV + PREV\n",
    "    RESULT.addItem(NEW)\n",
    "    \n",
    "    // shift the old values\n",
    "    PREV_PREV = PREV\n",
    "    PREV = NEW\n",
    "end loop\n",
    "output RESULT"
   ]
  },
  {
   "cell_type": "code",
   "execution_count": 1,
   "metadata": {},
   "outputs": [
    {
     "data": {
      "text/plain": [
       "Array.from_list([0, 1])"
      ]
     },
     "execution_count": 1,
     "metadata": {},
     "output_type": "execute_result"
    }
   ],
   "source": [
    "// produce the first 20 numbers in the fibinocci sequence\n",
    "// this time, you try it, but put it into an array instead\n",
    "// use the INDEX variable to get the previous items\n",
    "\n",
    "RESULT = Array.from_list([0, 1])\n",
    "INDEX = 2  // the third element\n",
    "\n",
    "// your code here\n",
    "\n",
    "output RESULT"
   ]
  },
  {
   "cell_type": "markdown",
   "metadata": {},
   "source": [
    "***\n",
    "## Topic 4.1.3 Explain the role of sub-procedures in solving a problem\n",
    "\n",
    "Sub-procedures, also called functions, or sub-routines, is an important aspect to programming. Whenever you find yourself writing code over and over again, you can package it up into a function. It helps us to organize our code, and can be used again later, so you're not constantly re-writing when you've found a solution.\n",
    "\n",
    "Let's learn the syntax of sub-procedure by viewing this quirky program:"
   ]
  },
  {
   "cell_type": "markdown",
   "metadata": {},
   "source": [
    "Things to notice:\n",
    "\n",
    "- You start a sub-procedure definition with the `sub` keyword and end it with `end sub`\n",
    "- You call a sub-procedure by typing its name with parentheses\n",
    "- You can send it parameters, in order\n",
    "- You can define sub-procedures in a different order than they are called\n",
    "\n",
    "There is an additional facet of the syntax that must be learned as well, and that is its **return value**. This is actually what they are used for most often, as it can save a lot of time. In fact, large, sophisticated programs are impossible without functions. What does `RESULT` equal to?"
   ]
  },
  {
   "cell_type": "code",
   "execution_count": 8,
   "metadata": {},
   "outputs": [
    {
     "data": {
      "text/plain": []
     },
     "execution_count": 8,
     "metadata": {},
     "output_type": "execute_result"
    }
   ],
   "source": [
    "sub Increment(PARAM)\n",
    "    return PARAM + 1\n",
    "end sub\n",
    "\n",
    "RESULT = Increment(41)"
   ]
  }
 ],
 "metadata": {
  "kernelspec": {
   "display_name": "Vanilla Python",
   "language": "vanilla_python",
   "name": "vanilla_python"
  },
  "language_info": {
   "file_extension": ".vanilla",
   "mimetype": "text/plain",
   "name": "vanilla_python"
  }
 },
 "nbformat": 4,
 "nbformat_minor": 2
}
