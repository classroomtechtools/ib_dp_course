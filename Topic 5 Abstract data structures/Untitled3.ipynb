{
 "cells": [
  {
   "cell_type": "markdown",
   "metadata": {},
   "source": [
    "# Abstract Data Structures: Thinking recursively\n",
    "\n",
    "## 5.1.1 Identify a situation that requires the use of recursive thinking\n",
    "\n",
    "What is this recursive thing? It's a very practical way of establishing an abstract pattern in our thinking. There are a class of problems that require thinking in a more abstract manner, and trying to identify this pattern of thinking is the subject of this section.\n",
    "\n",
    "First, let's talk about **non-recursive** or **iterative** way of thinking. That's like a procedure, such as brushing your teeth, or the sequence of events on any given day in history.\n",
    "\n",
    "We'll start with this previous function that we wrote that continuously asks the user for valid input"
   ]
  },
  {
   "cell_type": "code",
   "execution_count": 5,
   "metadata": {},
   "outputs": [
    {
     "data": {
      "text/plain": [
       "Yes?: C  is not valid!\n",
       "Yes?: W  is not valid!\n",
       "Yes?: I  is not valid!\n",
       "Yes?: P  is not valid!\n",
       "Yes?: Y  Aahhhhh"
      ]
     },
     "execution_count": 5,
     "metadata": {},
     "output_type": "execute_result"
    }
   ],
   "source": [
    "// We'll generate 5 integers, finally returning \"Y\" on the fifth attempt\n",
    "QUEUE = Queue.from_x_characters(4, min=\"A\", max=\"X\")\n",
    "QUEUE.enqueue(\"Y\")\n",
    "\n",
    "sub input(PROMPT)\n",
    "    out PROMPT\n",
    "\n",
    "    // pop off the stack and if it's a 10, we finally got a yes\n",
    "    VALUE = QUEUE.dequeue()\n",
    "    if VALUE = 1 then\n",
    "        return \"Y\"\n",
    "    else\n",
    "        return VALUE\n",
    "    end if\n",
    "end sub\n",
    "\n",
    "sub ask_until_valid_nonrecursive(PROMPT, POSSIBLES)\n",
    "    // loop infinitely until \"break\"\n",
    "    loop while true\n",
    "        RESPONSE = input(PROMPT)\n",
    "        if RESPONSE in POSSIBLES then\n",
    "            // valid response\n",
    "            break  // loop stops\n",
    "        else\n",
    "            // invalid response\n",
    "            output RESPONSE, \" is not valid!\"\n",
    "        end if\n",
    "    output RESPONSE, \" Aahhhhh\"\n",
    "    return RESPONSE\n",
    "end sub\n",
    "\n",
    "ask_until_valid_nonrecursive(\"Yes?: \", [\"Y\"])"
   ]
  },
  {
   "cell_type": "markdown",
   "metadata": {},
   "source": [
    "This function works just fine. However, there is a way to write this function in a recursive manner. It's a simple example that does not have much use, but we just need to understand what is meant when we say to solve something with recursion. It's basically a function calling itself. Consider this code:"
   ]
  },
  {
   "cell_type": "code",
   "execution_count": null,
   "metadata": {},
   "outputs": [],
   "source": [
    "def ask_until_valid_recursive(prompt: str, possible_answers: list):\n",
    "    response = input(prompt)\n",
    "    if response in possible_answers:\n",
    "        # valid\n",
    "        return response\n",
    "    # invalid: recurse!\n",
    "    ask_until_valid_recursive(prompt, possible_answers)\n",
    "    \n",
    "ask_until_valid_recursive(\"Get it?\", ['Y', 'N'])"
   ]
  },
  {
   "cell_type": "markdown",
   "metadata": {},
   "source": [
    "Basically this function \"falls back\" on itself. Instead of going in a loop, the code continues the same way a loop does, by further calling itself, and repeating this process until something valid is found.\n",
    "\n",
    "Right, so let's discover a limit to this recursion thing by seeing what happens when nothing valid is every found."
   ]
  },
  {
   "cell_type": "code",
   "execution_count": null,
   "metadata": {},
   "outputs": [],
   "source": [
    "ask_until_valid_recursive('Nothing you type will be valid: ', [])  # infinite loop"
   ]
  },
  {
   "cell_type": "markdown",
   "metadata": {},
   "source": [
    "In the above call, we have not defined anything as being valid, and so this program will go on forever constantly prompting you to type something. Actually … not quite forever. Although it is technically an infinite loop, the fact of the matter is that there are resource limitations, and it will eventually fail. Let's see it fail by typing a recursive function that never ends:"
   ]
  },
  {
   "cell_type": "code",
   "execution_count": null,
   "metadata": {},
   "outputs": [],
   "source": [
    "def recurse_forever(prompt):\n",
    "    recurse_forever(prompt)\n",
    "\n",
    "recurse_forever(\"Error\")"
   ]
  },
  {
   "cell_type": "markdown",
   "metadata": {},
   "source": [
    "Run the above, and it displays `RecursionError: maximum recursion depth exceeded`. This means that the code we ran failed, and in this case it's because of something called a \"stack overflow\" which is to say that Python doesn't have enough memory to continue keep doing the same thing over and over again, and so fails.\n",
    "\n",
    "But this `ask_until_valid` example is not really an example that requires recursive thinking, because the version that we had worked just fine with an interative approach (and maybe was easier to understand). So what kind of problem does require recursion? It's in a case in which the problem breaks down into an algorthim that depends on previous steps being completed, and depending on **base cases** where the recursion will inevidibly end up.\n",
    "\n",
    "For that, we'll take another loop at making the fibinocci sequence. We need to understand what this sequence of numbers is, which is provided in this formula:\n",
    "\n",
    "      ↓ pattern            ↓ base cases\n",
    "\n",
    "$F_n = F_{n-1} + F_{n-2}$, where $F_1 = 1$, and $F_0 = 0$.\n",
    "\n",
    "That is to say that a number `n` is defined as the \"F of (n-1) plus F of (n-2)\", but \"F of 1 is 1\" and F of 0 is 0\"\n",
    "\n",
    "The solution to calculate this in a procedural way is this:"
   ]
  },
  {
   "cell_type": "code",
   "execution_count": null,
   "metadata": {},
   "outputs": [],
   "source": [
    "def fibonnoci_iterative(how_many):\n",
    "    \"\"\" return the how_many-th number of fibonocci numbers \"\"\"\n",
    "    \n",
    "    # base cases:\n",
    "    result = [0, 1]\n",
    "    \n",
    "    for n in range(2, how_many):  # we already have the first two\n",
    "        \n",
    "        # pattern:\n",
    "        new = result[n-2] + result[n-1]\n",
    "        result.append(new)\n",
    "        \n",
    "    return result\n",
    "\n",
    "for result in fibonnoci_iterative(10):\n",
    "    print(result, end=\" \")"
   ]
  },
  {
   "cell_type": "code",
   "execution_count": null,
   "metadata": {},
   "outputs": [],
   "source": [
    "def fibonnoci_recurse(n):\n",
    "    \"\"\" return the fibonocci numbers at index n \"\"\"    \n",
    "    \n",
    "    # base cases:\n",
    "    if n == 0:\n",
    "        return 0\n",
    "    elif n == 1:\n",
    "        return 1\n",
    "    \n",
    "    # pattern\n",
    "    return fibonnoci_recurse(n - 1) + fibonnoci_recurse(n - 2)\n",
    "\n",
    "def fibonnoci_recurse_n_terms(how_many):\n",
    "    result = []\n",
    "    for i in range(how_many):\n",
    "        value = fibonnoci_recurse(i)\n",
    "        result.append(value)\n",
    "    return result\n",
    "\n",
    "for item in fibonnoci_recurse_n_terms(10):\n",
    "    print(item, end=\" \")"
   ]
  },
  {
   "cell_type": "markdown",
   "metadata": {},
   "source": [
    "Okay, so we have some of the theory down. We can see that recusion can be used to solve problems when the problem can be described in terms of itself. We have also seen the case where base cases are required to ensure that we don't have an infinite loop. \n",
    "\n",
    "## 5.1.2 Identify recursive thinking in a specified problem solution\n",
    "\n",
    "But let's get more specific in understanding the kinds of problems that recursion is great at solving. Above, there were two solutions presented, one that was iterative and the other that was recursive. One could argue that the iterative solution is simpler and more understandable. There is no doubt, however, that the recursive solution is far slower. "
   ]
  },
  {
   "cell_type": "code",
   "execution_count": null,
   "metadata": {},
   "outputs": [],
   "source": [
    "%%timeit\n",
    "list(fibonnoci_iterative(10))"
   ]
  },
  {
   "cell_type": "code",
   "execution_count": null,
   "metadata": {},
   "outputs": [],
   "source": [
    "%%timeit\n",
    "list(fibonnoci_recurse_n_terms(10))"
   ]
  },
  {
   "cell_type": "markdown",
   "metadata": {},
   "source": [
    "The above times how long it takes for the code to execute. The recursive solution is just painfully slow compared to the iterative approach. \n",
    "\n",
    "So what kind of problem is better solved iteratively?\n",
    "\n",
    "Let's imagine that the school is organizing a day at Sunway Lagoon with the whole school. The lead teacher gives his phone number to all of the teachers who attend that day, and they are told to call the him whenever something happens. "
   ]
  },
  {
   "cell_type": "code",
   "execution_count": null,
   "metadata": {},
   "outputs": [],
   "source": []
  }
 ],
 "metadata": {
  "kernelspec": {
   "display_name": "Vanilla Python",
   "language": "vanilla_python",
   "name": "vanilla_python"
  },
  "language_info": {
   "file_extension": ".vanilla",
   "mimetype": "text/plain",
   "name": "vanilla_python"
  }
 },
 "nbformat": 4,
 "nbformat_minor": 2
}
