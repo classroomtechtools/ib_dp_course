{
 "cells": [
  {
   "cell_type": "markdown",
   "metadata": {},
   "source": [
    "# Abstract Data Structures: Abstract Data Structures\n",
    "\n",
    "## 5.1.4 Describe the characteristics of a two-dimensional array.\n",
    "\n",
    "A two-dimensional array is a useful data structure, and is very common, and is basically a spreadsheet. They can also be thought of a a matrix, with an `x` and `y` axis.\n",
    "\n",
    "Remember that we can hold the columns of a spreadsheet. In these two arrays, the **length** is `4`\n"
   ]
  },
  {
   "cell_type": "code",
   "execution_count": null,
   "metadata": {},
   "outputs": [],
   "source": [
    "COLUMN_A = Array.from_list([\"Given Name\", \"John\",  \"Peter\", \"Mary\"])\n",
    "COLUMN_B = Array.from_list([\"Surname\",    \"Smith\", \"Jones\", \"Moore\"])\n",
    "COLUMN_C = Array.from_list([\"Salary\",     35000,   60000,   100000])"
   ]
  },
  {
   "cell_type": "markdown",
   "metadata": {},
   "source": [
    "Notice that the headers of this spreadsheet are the first element of each array? We could also write it by rows, and be exactly the same content"
   ]
  },
  {
   "cell_type": "code",
   "execution_count": null,
   "metadata": {},
   "outputs": [],
   "source": [
    "ROW_1 = Array.from_list([\"Given Name\", \"Surname\", \"Salary\"])\n",
    "ROW_2 = Array.from_list([\"John\",       \"Smith\",    35000])\n",
    "ROW_3 = Array.from_list([\"Peter\",      \"Jones\",    60000])\n",
    "ROW_4 = Array.from_list([\"Mary\",       \"Moore\",    100000])"
   ]
  },
  {
   "cell_type": "markdown",
   "metadata": {},
   "source": [
    "It makes a lot more sense to keep these arrays contained in one variable, which we can do, like this:"
   ]
  },
  {
   "cell_type": "code",
   "execution_count": 2,
   "metadata": {},
   "outputs": [
    {
     "name": "stdout",
     "output_type": "stream",
     "text": [
      "   3|  \u001b[33m\"\"\"\u001b[39;49;00m\n",
      "   4|  \u001b[33mThis is something Array\u001b[39;49;00m\n",
      "   5|  \u001b[33m\"\"\"\u001b[39;49;00m\n",
      "   6|  \n",
      "   7|  \u001b[37m# Set up each row\u001b[39;49;00m\n",
      "   8|  ROW_1 = Array.from_list([\u001b[33m\"\u001b[39;49;00m\u001b[33mGiven Name\u001b[39;49;00m\u001b[33m\"\u001b[39;49;00m, \u001b[33m\"\u001b[39;49;00m\u001b[33mSurname\u001b[39;49;00m\u001b[33m\"\u001b[39;49;00m, \u001b[33m\"\u001b[39;49;00m\u001b[33mSalary\u001b[39;49;00m\u001b[33m\"\u001b[39;49;00m])\n",
      "   9|  ROW_2 = Array.from_list([\u001b[33m\"\u001b[39;49;00m\u001b[33mJohn\u001b[39;49;00m\u001b[33m\"\u001b[39;49;00m,       \u001b[33m\"\u001b[39;49;00m\u001b[33mSmith\u001b[39;49;00m\u001b[33m\"\u001b[39;49;00m,    \u001b[34m35000\u001b[39;49;00m])\n",
      "  10|  ROW_3 = Array.from_list([\u001b[33m\"\u001b[39;49;00m\u001b[33mPeter\u001b[39;49;00m\u001b[33m\"\u001b[39;49;00m,      \u001b[33m\"\u001b[39;49;00m\u001b[33mJones\u001b[39;49;00m\u001b[33m\"\u001b[39;49;00m,    \u001b[34m60000\u001b[39;49;00m])\n",
      "  11|  ROW_4 = Array.from_list([\u001b[33m\"\u001b[39;49;00m\u001b[33mMary\u001b[39;49;00m\u001b[33m\"\u001b[39;49;00m,       \u001b[33m\"\u001b[39;49;00m\u001b[33mMoore\u001b[39;49;00m\u001b[33m\"\u001b[39;49;00m,    \u001b[34m100000\u001b[39;49;00m])\n",
      "  12|  \n",
      "  13|  \u001b[37m# Set up the one variable\u001b[39;49;00m\n",
      "  14|  ROWS = Array.from_list([ROW_1, ROW_2, ROW_3, ROW_4])\n",
      "  15|  \n",
      "  16|  \u001b[37m# py:\u001b[39;49;00m\n",
      "  17|  \u001b[34mdef\u001b[39;49;00m \u001b[32mdisplay_array\u001b[39;49;00m(array):\n",
      "  18|      cell_size = \u001b[34m0\u001b[39;49;00m\n",
      "  19|      \u001b[34mfor\u001b[39;49;00m row \u001b[35min\u001b[39;49;00m array:\n",
      "  20|          row_max = \u001b[36mmax\u001b[39;49;00m([\u001b[36mlen\u001b[39;49;00m(\u001b[36mstr\u001b[39;49;00m(r)) \u001b[34mfor\u001b[39;49;00m r \u001b[35min\u001b[39;49;00m row])\n",
      "  21|          cell_size = \u001b[36mmax\u001b[39;49;00m([cell_size, row_max])\n",
      "  22|      \u001b[34mfor\u001b[39;49;00m row \u001b[35min\u001b[39;49;00m [array[\u001b[34m0\u001b[39;49;00m]]:\n",
      "  23|          \u001b[36mprint\u001b[39;49;00m(\u001b[33m\"\u001b[39;49;00m\u001b[33m|| \u001b[39;49;00m\u001b[33m\"\u001b[39;49;00m, end=\u001b[33m\"\u001b[39;49;00m\u001b[33m\"\u001b[39;49;00m)\n",
      "  24|          \u001b[36mprint\u001b[39;49;00m(\u001b[33m\"\u001b[39;49;00m\u001b[33m | \u001b[39;49;00m\u001b[33m\"\u001b[39;49;00m.join([f\u001b[33m\"\u001b[39;49;00m\u001b[33m{\u001b[39;49;00m\u001b[33mr:^\u001b[39;49;00m\u001b[33m{cell_size}\u001b[39;49;00m\u001b[33m}\u001b[39;49;00m\u001b[33m\"\u001b[39;49;00m \u001b[34mfor\u001b[39;49;00m r \u001b[35min\u001b[39;49;00m row]), end=\u001b[33m\"\u001b[39;49;00m\u001b[33m\"\u001b[39;49;00m)\n",
      "  25|          \u001b[36mprint\u001b[39;49;00m(\u001b[33m\"\u001b[39;49;00m\u001b[33m ||\u001b[39;49;00m\u001b[33m\"\u001b[39;49;00m)\n",
      "  26|      \u001b[36mprint\u001b[39;49;00m(\u001b[33m\"\u001b[39;49;00m\u001b[33m|| \u001b[39;49;00m\u001b[33m\"\u001b[39;49;00m, end=\u001b[33m\"\u001b[39;49;00m\u001b[33m\"\u001b[39;49;00m)\n",
      "  27|      \u001b[36mprint\u001b[39;49;00m(\u001b[33m\"\u001b[39;49;00m\u001b[33m | \u001b[39;49;00m\u001b[33m\"\u001b[39;49;00m.join([\u001b[33m'\u001b[39;49;00m\u001b[33m-\u001b[39;49;00m\u001b[33m'\u001b[39;49;00m * (cell_size) \u001b[34mfor\u001b[39;49;00m r \u001b[35min\u001b[39;49;00m array[\u001b[34m0\u001b[39;49;00m]]), end=\u001b[33m\"\u001b[39;49;00m\u001b[33m\"\u001b[39;49;00m)\n",
      "  28|      \u001b[36mprint\u001b[39;49;00m(\u001b[33m\"\u001b[39;49;00m\u001b[33m ||\u001b[39;49;00m\u001b[33m\"\u001b[39;49;00m)\n",
      "  29|  \n",
      "  30|      \u001b[34mfor\u001b[39;49;00m row \u001b[35min\u001b[39;49;00m array[\u001b[34m1\u001b[39;49;00m:]:    \n",
      "  31|          \u001b[36mprint\u001b[39;49;00m(\u001b[33m\"\u001b[39;49;00m\u001b[33m|| \u001b[39;49;00m\u001b[33m\"\u001b[39;49;00m + \u001b[33m\"\u001b[39;49;00m\u001b[33m | \u001b[39;49;00m\u001b[33m\"\u001b[39;49;00m.join([f\u001b[33m\"\u001b[39;49;00m\u001b[33m{\u001b[39;49;00m\u001b[33mr:^\u001b[39;49;00m\u001b[33m{cell_size}\u001b[39;49;00m\u001b[33m}\u001b[39;49;00m\u001b[33m\"\u001b[39;49;00m \u001b[34mfor\u001b[39;49;00m r \u001b[35min\u001b[39;49;00m row]), end=\u001b[33m\"\u001b[39;49;00m\u001b[33m ||\u001b[39;49;00m\u001b[33m\\n\u001b[39;49;00m\u001b[33m\"\u001b[39;49;00m)\n",
      "  32|  \n",
      "  33|  \u001b[37m# pseudo:\u001b[39;49;00m\n",
      "  34|  display_array(ROWS)\n",
      "  35|  \n"
     ]
    },
    {
     "data": {
      "text/plain": [
       "|| Given Name |  Surname   |   Salary   ||\n",
       "|| ---------- | ---------- | ---------- ||\n",
       "||    John    |   Smith    |   35000    ||\n",
       "||   Peter    |   Jones    |   60000    ||\n",
       "||    Mary    |   Moore    |   100000   ||"
      ]
     },
     "execution_count": 2,
     "metadata": {},
     "output_type": "execute_result"
    }
   ],
   "source": [
    "# Set up each row\n",
    "ROW_1 = Array.from_list([\"Given Name\", \"Surname\", \"Salary\"])\n",
    "ROW_2 = Array.from_list([\"John\",       \"Smith\",    35000])\n",
    "ROW_3 = Array.from_list([\"Peter\",      \"Jones\",    60000])\n",
    "ROW_4 = Array.from_list([\"Mary\",       \"Moore\",    100000])\n",
    "\n",
    "# Set up the one variable\n",
    "ROWS = Array.from_list([ROW_1, ROW_2, ROW_3, ROW_4])\n",
    "\n",
    "# py:\n",
    "def display_array(array):\n",
    "    cell_size = 0\n",
    "    for row in array:\n",
    "        row_max = max([len(str(r)) for r in row])\n",
    "        cell_size = max([cell_size, row_max])\n",
    "    for row in [array[0]]:\n",
    "        print(\"|| \", end=\"\")\n",
    "        print(\" | \".join([f\"{r:^{cell_size}}\" for r in row]), end=\"\")\n",
    "        print(\" ||\")\n",
    "    print(\"|| \", end=\"\")\n",
    "    print(\" | \".join(['-' * (cell_size) for r in array[0]]), end=\"\")\n",
    "    print(\" ||\")\n",
    "\n",
    "    for row in array[1:]:    \n",
    "        print(\"|| \" + \" | \".join([f\"{r:^{cell_size}}\" for r in row]), end=\" ||\\n\")\n",
    "\n",
    "# pseudo:\n",
    "display_array(ROWS)"
   ]
  },
  {
   "cell_type": "markdown",
   "metadata": {},
   "source": [
    "More simply, multidimentional arrays are **zero-indexed**, and in many (if not most) programming languages, use square brackets (`[][]`) to express them.\n",
    "\n",
    "```python\n",
    "#    R  C\n",
    "ROWS[0][0]  # the first row, first column\n",
    "ROWS[1][1]  # the second row, second column\n",
    "```\n",
    "\n",
    "Multi-dimensional arrays, instead of length, have two properties: **width** and **height**. The width is the \"length\" of the x-axis, and the height is the \"length\" of the y-axis.\n",
    "\n",
    "If you wanted to **invert** the multi-dimensional array, so that the data is **transposing**:"
   ]
  },
  {
   "cell_type": "code",
   "execution_count": null,
   "metadata": {},
   "outputs": [],
   "source": [
    "ROW_1 = Array.from_list([\"Given Name\", \"Surname\"])\n",
    "ROW_2 = Array.from_list([\"John\", \"Smith\"])\n",
    "ROW_3 = Array.from_list([\"Peter\", \"Jones\"])\n",
    "ROW_4 = Array.from_list([\"Mary\", \"Moore\"])\n",
    "\n",
    "// Set up the one variable\n",
    "ROWS = Array.from_list([ROW_1, ROW_2, ROW_3, ROW_4])\n",
    "\n",
    "def transpose(array):\n",
    "    return [*zip(*array)]\n",
    "    \n",
    "// same as above, but modified to format\n",
    "def display_array(array):\n",
    "    cell_size = 0\n",
    "    for row in array:\n",
    "        row_max = max([len(r) for r in row])\n",
    "        cell_size = max([cell_size, row_max])\n",
    "\n",
    "    for row in array:    \n",
    "        print(\"|| \" + f\"{row[0]:^{cell_size}}\", end=\" \")\n",
    "        print(\" | \", end=\"\")\n",
    "        print(\"   \".join([f\"{r:^{cell_size}}\" for r in row[1:]]), end=\"\")\n",
    "        print(\" ||\")\n",
    "        \n",
    "display_array(transpose(ROWS))"
   ]
  },
  {
   "cell_type": "markdown",
   "metadata": {},
   "source": [
    "## 5.1.5 Construct algorithms using two-dimensional arrays.\n",
    "\n",
    "\n"
   ]
  },
  {
   "cell_type": "code",
   "execution_count": 1,
   "metadata": {},
   "outputs": [
    {
     "name": "stderr",
     "output_type": "stream",
     "text": [
      "\u001b[0;31mProgramming error on line 12:\n",
      "\t// py: (pseudocode)\n",
      "\t// py: (python)\n",
      "SyntaxError: invalid syntax\n",
      "\u001b[0m"
     ]
    }
   ],
   "source": [
    "MAZE = [\n",
    "    [0, 0, 1, 0, 1, 3],\n",
    "    [1, 1, 1, 1, 0, 1],\n",
    "    [1, 1, 0, 1, 1, 1],\n",
    "    [1, 1, 1, 0, 1, 1],\n",
    "    [1, 0, 1, 0, 0, 0],\n",
    "    [2, 0, 1, 1, 1, 1]\n",
    "]\n",
    "MAZE_WIDTH = 6\n",
    "MAZE_HEIGHT = 6\n",
    "\n",
    "// py:\n",
    "def print_maze(maze):\n",
    "    print(\"----\" * MAZE_WIDTH)\n",
    "    for row in maze:\n",
    "        for column in row:\n",
    "            if column == 0:\n",
    "                print(\"|***\", end=\"\")\n",
    "            elif column == 1:\n",
    "                print(\"|   \", end=\"\")\n",
    "            elif column == 2 or column == -1:\n",
    "                print(\"| 1 \", end=\"\")\n",
    "            elif column == 3:\n",
    "                print(\"|===\", end=\"\")\n",
    "        print(\"|\")\n",
    "        print(\"----\" * MAZE_WIDTH)\n",
    "            \n",
    "// pseudo:\n",
    "\n",
    "sub search(X, Y)\n",
    "\n",
    "    # first validate parameters\n",
    "    if X < 0 or Y < 0 then\n",
    "        return false\n",
    "    else if X >= MAZE_WIDTH OR Y >= MAZE_HEIGHT then\n",
    "        return false\n",
    "    end if\n",
    "\n",
    "    if MAZE[X][Y] = 3\n",
    "        MAZE[X][Y] = -1\n",
    "        output \"Completed!\"\n",
    "        print_maze(MAZE)\n",
    "        return true\n",
    "    else if MAZE[X][Y] = 0 then\n",
    "        return false\n",
    "    else if MAZE[X][Y] = -1 then\n",
    "        return false\n",
    "    end if\n",
    "\n",
    "    MAZE[X][Y] = -1\n",
    "    \n",
    "    # explore neighbors\n",
    "    return search(X+1, Y) OR search(X, Y-1) OR search(X-1, Y) OR search(X, Y+1)\n",
    "\n",
    "end sub\n",
    "\n",
    "output \"Start:\"\n",
    "print_maze(MAZE)\n",
    "print()\n",
    "search(5, 0)\n",
    "\n"
   ]
  },
  {
   "cell_type": "markdown",
   "metadata": {},
   "source": [
    "## 5.1.6 Describe the characteristics and applications of a stack."
   ]
  }
 ],
 "metadata": {
  "kernelspec": {
   "display_name": "Vanilla Python",
   "language": "vanilla_python",
   "name": "vanilla_python"
  },
  "language_info": {
   "file_extension": ".vanilla",
   "mimetype": "text/plain",
   "name": "vanilla_python"
  }
 },
 "nbformat": 4,
 "nbformat_minor": 2
}
