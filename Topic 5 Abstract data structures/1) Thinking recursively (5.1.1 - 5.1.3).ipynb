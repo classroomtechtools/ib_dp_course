{
 "cells": [
  {
   "cell_type": "markdown",
   "metadata": {},
   "source": [
    "# Abstract Data Structures: Thinking recursively\n",
    "\n",
    "## 5.1.1 Identify a situation that requires the use of recursive thinking\n",
    "\n",
    "What is this recursive thing? It's a very practical way of establishing an abstract pattern in our thinking. There are a class of problems that require thinking in a more abstract manner, and trying to identify this pattern of thinking is the subject of this section.\n",
    "\n",
    "First, let's talk about **non-recursive** or **iterative** way of thinking. That's like a procedure, such as brushing your teeth, or the sequence of events on any given day in history.\n",
    "\n",
    "We'll start with this previous function that we wrote that continuously asks the user for valid input"
   ]
  },
  {
   "cell_type": "code",
   "execution_count": 16,
   "metadata": {},
   "outputs": [
    {
     "data": {
      "text/plain": [
       "Do you agree?: B is not valid!\n",
       "Do you agree?: Q is not valid!\n",
       "Do you agree?: V is not valid!\n",
       "Do you agree?: N Aahhhhh"
      ]
     },
     "execution_count": 16,
     "metadata": {},
     "output_type": "execute_result"
    }
   ],
   "source": [
    "// We'll generate 5 characteres, finally returning \"Y\" on the fifth attempt\n",
    "// Note: There's a chance there's an \"N\" before the \"Y\"\n",
    "QUEUE = Queue.from_x_characters(4, min=\"A\", max=\"X\")\n",
    "QUEUE.enqueue(\"Y\")\n",
    "\n",
    "sub input(PROMPT)\n",
    "    out PROMPT\n",
    "\n",
    "    // take off from the queue and if it's a \"Y\", we finally got a yes\n",
    "    return QUEUE.dequeue()\n",
    "end sub\n",
    "\n",
    "sub ask_until_valid_nonrecursive(PROMPT, POSSIBLES)\n",
    "    // loop infinitely until \"break\"\n",
    "    loop while true\n",
    "        RESPONSE = input(PROMPT)\n",
    "        if RESPONSE in POSSIBLES then\n",
    "            // valid response\n",
    "            break  // loop stops\n",
    "        else\n",
    "            // invalid response\n",
    "            output RESPONSE, \"is not valid!\"\n",
    "        end if\n",
    "    output RESPONSE, \"Aahhhhh\"\n",
    "    return RESPONSE\n",
    "end sub\n",
    "\n",
    "ask_until_valid_nonrecursive(\"Do you agree?: \", [\"Y\", \"N\"])"
   ]
  },
  {
   "cell_type": "markdown",
   "metadata": {},
   "source": [
    "This function works just fine. However, there is a way to write this function in a recursive manner. It's a simple example that does not have much use, but we just need to understand what is meant when we say to solve something with recursion. It's basically a function calling itself. Consider this code:"
   ]
  },
  {
   "cell_type": "code",
   "execution_count": 11,
   "metadata": {},
   "outputs": [
    {
     "data": {
      "text/plain": [
       "Get it?: C is not valid\n",
       "Get it?: J is not valid\n",
       "Get it?: U is not valid\n",
       "Get it?: P is not valid\n",
       "Get it?: Y is valid!"
      ]
     },
     "execution_count": 11,
     "metadata": {},
     "output_type": "execute_result"
    }
   ],
   "source": [
    "QUEUE = Queue.from_x_characters(4, min=\"A\", max=\"X\")\n",
    "QUEUE.enqueue(\"Y\")\n",
    "sub input(PROMPT)\n",
    "    out PROMPT\n",
    "    return QUEUE.dequeue()\n",
    "end sub\n",
    "\n",
    "sub ask_until_valid_recursive(PROMPT, POSSIBLES)\n",
    "    RESPONSE = input(PROMPT)\n",
    "    if RESPONSE in POSSIBLES then\n",
    "        // valid\n",
    "        output RESPONSE, \"is valid!\"\n",
    "        return RESPONSE\n",
    "    end if\n",
    "    // invalid: recurse!\n",
    "    output RESPONSE, \"is NOT valid\"\n",
    "    ask_until_valid_recursive(PROMPT, POSSIBLES)\n",
    "end sub\n",
    "\n",
    "ask_until_valid_recursive(\"Get it?: \", ['Y', 'N'])"
   ]
  },
  {
   "cell_type": "markdown",
   "metadata": {},
   "source": [
    "Basically this function \"falls back\" on itself. Instead of going in a loop, the code continues the same way a loop does, by further calling itself, and repeating this process until something valid is found.\n",
    "\n",
    "Right, what happens when nothing valid is ever found?\n",
    "\n",
    "```python\n",
    "ask_until_valid_recursive('Nothing you type will be valid: ', [])  # infinite loop\n",
    "```\n",
    "\n",
    "Answer: An infinite loop"
   ]
  },
  {
   "cell_type": "markdown",
   "metadata": {},
   "source": [
    "In the above call, we have not defined anything as being valid, and so this program will go on forever constantly prompting you to type something. Actually … not quite forever. Although it is technically an infinite loop, the fact of the matter is that there are resource limitations, and it will eventually fail. Let's see it fail by typing a recursive function that never ends:"
   ]
  },
  {
   "cell_type": "code",
   "execution_count": 12,
   "metadata": {},
   "outputs": [
    {
     "name": "stderr",
     "output_type": "stream",
     "text": [
      "\u001b[0;31mExecution error on line 2:\n",
      "\trecurse_forever(PROMPT) (pseudocode)\n",
      "\trecurse_forever(PROMPT) (python)\n",
      "RecursionError: maximum recursion depth exceeded\n",
      "\u001b[0m"
     ]
    }
   ],
   "source": [
    "sub recurse_forever(PROMPT)\n",
    "    recurse_forever(PROMPT)\n",
    "end sub\n",
    "\n",
    "recurse_forever(\"Error\")"
   ]
  },
  {
   "cell_type": "markdown",
   "metadata": {},
   "source": [
    "If you ran the above, and it displays `RecursionError: maximum recursion depth exceeded`. This means that the code we ran failed, and in this case it's because of something called a \"stack overflow\" which is to say that Python doesn't have enough memory to continue keep doing the same thing over and over again, and so fails.\n",
    "\n",
    "But this `ask_until_valid` example is not really an example that requires recursive thinking, because the version that we had worked just fine with an interative approach (and maybe was easier to understand). So what kind of problem does require recursion? It's in a case in which the problem breaks down into an algorthim that depends on previous steps being completed, and depending on **base cases** where the recursion will inevidibly end up.\n",
    "\n",
    "For that, we'll take another loop at making the fibinocci sequence. We need to understand what this sequence of numbers is, which is provided in this formula:\n",
    "\n",
    "      ↓ pattern            ↓ base cases\n",
    "\n",
    "$F_n = F_{n-1} + F_{n-2}$, where $F_1 = 1$, and $F_0 = 0$.\n",
    "\n",
    "That is to say that a number `n` is defined as the \"F of (n-1) plus F of (n-2)\", but \"F of 1 is 1\" and F of 0 is 0\"\n",
    "\n",
    "The solution to calculate this in a procedural way is this:"
   ]
  },
  {
   "cell_type": "code",
   "execution_count": 31,
   "metadata": {},
   "outputs": [
    {
     "data": {
      "text/plain": [
       "0 1 1 2 3 5 8 13 21 34"
      ]
     },
     "execution_count": 31,
     "metadata": {},
     "output_type": "execute_result"
    }
   ],
   "source": [
    "sub fibonnoci_iterative(HOWMANY)\n",
    "    FIB_OF = Array()  // we'll store fib of n here\n",
    "    RESULT = Collection()  // we'll return a collection so it's easy to iterate over\n",
    "    \n",
    "    // base cases:\n",
    "    FIB_OF[0] = 0\n",
    "    FIB_OF[1] = 1\n",
    "    RESULT.addItem(0)\n",
    "    RESULT.addItem(1)\n",
    "\n",
    "    loop N from 2 to HOWMANY-1  // we already have the first two\n",
    "        FIB_OF[N] = FIB_OF[N-2] + FIB_OF[N-1]\n",
    "        RESULT.addItem( FIB_OF[N] )\n",
    "    end loop\n",
    "\n",
    "    return RESULT\n",
    "\n",
    "SEQUENCE = fibonnoci_iterative(10)\n",
    "loop while SEQUENCE.hasNext()\n",
    "    out SEQUENCE.getNext()\n",
    "    out \" \"  // space between each number\n",
    "end loop"
   ]
  },
  {
   "cell_type": "markdown",
   "metadata": {},
   "source": [
    "The solution using a recursive method is here:"
   ]
  },
  {
   "cell_type": "code",
   "execution_count": 24,
   "metadata": {},
   "outputs": [
    {
     "data": {
      "text/plain": [
       "0 1 1 2 3 5 8 13 21 34"
      ]
     },
     "execution_count": 24,
     "metadata": {},
     "output_type": "execute_result"
    }
   ],
   "source": [
    "sub fibonacci_recurse(N)    \n",
    "    // base cases:\n",
    "    if N = 0 then\n",
    "        return 0\n",
    "    else if N = 1 then\n",
    "        return 1\n",
    "    end if\n",
    "    \n",
    "    // pattern\n",
    "    return fibonacci_recurse(N-1) + fibonacci_recurse(N-2)\n",
    "end sub\n",
    "\n",
    "sub fibonacci_rescurse_n_terms(HOWMANY)\n",
    "    RESULT = Collection()\n",
    "    // this solution, we don't need to store them in a separate array\n",
    "\n",
    "    loop I from 0 to HOWMANY-1\n",
    "        VALUE = fibonacci_recurse(I)\n",
    "        RESULT.addItem(VALUE)\n",
    "    end loop\n",
    "    \n",
    "    return RESULT\n",
    "\n",
    "SEQUENCE = fibonacci_rescurse_n_terms(10)\n",
    "loop while SEQUENCE.hasNext()\n",
    "    out SEQUENCE.getNext()\n",
    "    out \" \"  // space between each number\n",
    "end loop"
   ]
  },
  {
   "cell_type": "markdown",
   "metadata": {},
   "source": [
    "Okay, so we have some of the theory down. We can see that recusion can be used to solve problems when the problem can be described in terms of itself. We have also seen the case where base cases are required to ensure that we don't have an infinite loop. \n",
    "\n",
    "## 5.1.2 Identify recursive thinking in a specified problem solution\n",
    "\n",
    "But let's get more specific in understanding the kinds of problems that recursion is great at solving. Above, there were two solutions presented, one that was iterative and the other that was recursive. One could argue that the iterative solution is simpler and more understandable. And in this case, the recursive solution is much slower! (Test that out yourself.)\n",
    "\n",
    "However, there is a certain aspect to the recursive solution that is worth exploring: And that's how it takes a problem that seems really complicated, and is able to refine it down to pieces."
   ]
  },
  {
   "cell_type": "code",
   "execution_count": null,
   "metadata": {},
   "outputs": [],
   "source": []
  },
  {
   "cell_type": "markdown",
   "metadata": {},
   "source": [
    "The above times how long it takes for the code to execute. The recursive solution is just painfully slow compared to the iterative approach. \n",
    "\n",
    "So what kind of problem is better solved iteratively?\n",
    "\n",
    "Let's imagine that the school is organizing a day at Sunway Lagoon with the whole school. The lead teacher gives his phone number to all of the teachers who attend that day, and they are told to call the him whenever something happens. "
   ]
  },
  {
   "cell_type": "code",
   "execution_count": null,
   "metadata": {},
   "outputs": [],
   "source": []
  }
 ],
 "metadata": {
  "kernelspec": {
   "display_name": "Vanilla Python",
   "language": "vanilla_python",
   "name": "vanilla_python"
  },
  "language_info": {
   "file_extension": ".vanilla",
   "mimetype": "text/plain",
   "name": "vanilla_python"
  }
 },
 "nbformat": 4,
 "nbformat_minor": 2
}
