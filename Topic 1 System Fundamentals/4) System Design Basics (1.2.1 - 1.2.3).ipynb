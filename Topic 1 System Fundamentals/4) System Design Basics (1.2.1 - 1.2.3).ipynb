{
 "cells": [
  {
   "cell_type": "markdown",
   "metadata": {},
   "source": [
    "# Topic 1.2 System design basics\n",
    "\n",
    "## Components of a computer system\n",
    "\n",
    "### 1.2.1 Define the terms: hardware, software, peripheral, network, human resources.\n",
    "\n",
    "#### Task \n",
    "\n",
    "Write a program that asks the user what these things are, and report whether or not specific words appear in the answer. For example, the definition of hardware needs to include \"CPU\" and \"transistor.\"\n",
    "\n",
    "To implement this program, you'll need to know how to do the following:\n",
    "\n",
    "- The `str` object has a method `.lower()` which returns the lowercase version of the string\n",
    "- The `in` keyword can be used to check for membership\n",
    "\n",
    "```python\n",
    "'Science'.lower() == 's'  # True\n",
    "'Psychology'.lower() == 'p'  # True\n",
    "```"
   ]
  },
  {
   "cell_type": "code",
   "execution_count": 21,
   "metadata": {},
   "outputs": [
    {
     "name": "stdout",
     "output_type": "stream",
     "text": [
      "science is in computer science\n",
      "science is in physical sciences\n",
      "No science in psychology!\n"
     ]
    }
   ],
   "source": [
    "possibilities = [\n",
    "    [\"science\", \"Computer Science\"],\n",
    "    [\"science\", \"Physical Sciences\"],\n",
    "    [\"science\", \"Psychology\"]\n",
    "]\n",
    "\n",
    "# lowercase them first: this is called \"normalizing\" data\n",
    "for possibility in possibilities:\n",
    "    possibility[0] = possibility[0].lower()\n",
    "    possibility[1] = possibility[1].lower()\n",
    "    \n",
    "for key, phrase in possibilities:\n",
    "    if key in phrase:\n",
    "        print(f\"{key} is in {phrase}\")\n",
    "    else:\n",
    "        print(f\"No {key} in {phrase}!\")"
   ]
  },
  {
   "cell_type": "code",
   "execution_count": 23,
   "metadata": {},
   "outputs": [],
   "source": [
    "#                ^---- joke!"
   ]
  },
  {
   "cell_type": "markdown",
   "metadata": {},
   "source": [
    "The below demonstrates how you could write this program. You are asked to improve it."
   ]
  },
  {
   "cell_type": "code",
   "execution_count": 26,
   "metadata": {},
   "outputs": [
    {
     "name": "stdout",
     "output_type": "stream",
     "text": [
      "\"Hardware blah blah CPU blah blah transistor\": Yes, full marks!\n",
      "\"Hardware blah blah CPU\": No marks\n",
      "\"Hardware blah blah blah blah transistor\": No marks\n",
      "\"Hardare blah blah\": No marks\n"
     ]
    }
   ],
   "source": [
    "test_answers = [\n",
    "    \"Hardware blah blah CPU blah blah transistor\",  # should get full marks\n",
    "    \"Hardware blah blah CPU\",                       # should get 1 mark\n",
    "    \"Hardware blah blah blah blah transistor\",      # should get 1 mark\n",
    "    \"Hardare blah blah\"                             # should get 0 marks\n",
    "]\n",
    "keys = [\"CPU\", \"transistor\"]\n",
    "\n",
    "# iterate over test answers\n",
    "for answer in test_answers:\n",
    "    \n",
    "    # assume it's good, looking for reasons why it's not\n",
    "    good_answer = True\n",
    "    for key in keys:\n",
    "        if not key in answer:\n",
    "            good_answer = False\n",
    "\n",
    "    print(f'\"{answer}\"', end=\": \")\n",
    "    if good_answer:\n",
    "        print(\"Yes, full marks!\")\n",
    "    else:\n",
    "        print(\"No marks\")"
   ]
  },
  {
   "cell_type": "markdown",
   "metadata": {},
   "source": [
    "Improve the program above by giving two marks for both \"CPU\" and \"transistor\", and one mark if only one of them."
   ]
  },
  {
   "cell_type": "markdown",
   "metadata": {},
   "source": [
    "### 1.2.2 Describe the roles that a computer can take in a networked world.\n",
    "\n",
    "\n",
    "client, server, email server, DNS server, router, and firewall\n",
    "\n",
    "### 1.2.3 Discuss the social and ethical issues associated with a networked world.\n",
    "\n",
    "tok\n",
    "\n",
    "## System Design and Analysis\n",
    "\n",
    "### 1.2.4 Identify the relevant stakeholders when planning a new system.\n",
    "\n",
    "utilitarianism\n",
    "\n",
    "### 1.2.5 Describe methods of obtaining requirements from stakeholders.\n",
    "\n",
    "### 1.2.6 Describe appropriate techniques for gathering the information needed to arrive at a workable solution.\n",
    "\n",
    "Proof of concepts, conducting research\n",
    "\n",
    "### 1.2.7 Construct suitable representations to illustrate system requirements.\n",
    "\n",
    "Flow charts, data flow diagrams, charts (UML not required)"
   ]
  }
 ],
 "metadata": {
  "kernelspec": {
   "display_name": "Python 3",
   "language": "python",
   "name": "python3"
  },
  "language_info": {
   "codemirror_mode": {
    "name": "ipython",
    "version": 3
   },
   "file_extension": ".py",
   "mimetype": "text/x-python",
   "name": "python",
   "nbconvert_exporter": "python",
   "pygments_lexer": "ipython3",
   "version": "3.7.3"
  }
 },
 "nbformat": 4,
 "nbformat_minor": 4
}
